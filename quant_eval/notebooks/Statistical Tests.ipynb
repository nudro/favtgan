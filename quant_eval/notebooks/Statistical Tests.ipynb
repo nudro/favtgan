{
 "cells": [
  {
   "cell_type": "markdown",
   "metadata": {},
   "source": [
    "<h1>Standard Deviation and Statistics on Metrics</h1>"
   ]
  },
  {
   "cell_type": "code",
   "execution_count": 235,
   "metadata": {},
   "outputs": [],
   "source": [
    "import pandas as pd\n",
    "import os\n",
    "import matplotlib.pyplot as plt\n",
    "import numpy as np\n",
    "from matplotlib.pyplot import imshow\n",
    "from PIL import Image\n",
    "from IPython.display import display\n",
    "import matplotlib.image as mpimg\n",
    "%matplotlib inline\n",
    "\n",
    "os.chdir('/Users/xxx/Documents/GANs_Research/my_imps/research_models/v3/evaluation')\n"
   ]
  },
  {
   "cell_type": "code",
   "execution_count": 236,
   "metadata": {},
   "outputs": [],
   "source": [
    "xls = pd.ExcelFile('all_metrics.xls')\n",
    "\n",
    "ei1 = pd.read_excel(xls, 'EI_EUR_BHATT')\n",
    "ei2 = pd.read_excel(xls, 'EI_EUR_PSNR')\n",
    "ei3 = pd.read_excel(xls, 'EI_EUR_SSIM')\n",
    "\n",
    "eai1 = pd.read_excel(xls, 'EAI_EUR_BHATT')\n",
    "eai2 = pd.read_excel(xls, 'EAI_EUR_PSNR')\n",
    "eai3 = pd.read_excel(xls, 'EAI_EUR_SSIM')\n",
    "\n",
    "ei4 = pd.read_excel(xls, 'EI_IRIS_BHATT')\n",
    "ei5 = pd.read_excel(xls, 'EI_IRIS_PSNR')\n",
    "ei6 = pd.read_excel(xls, 'EI_IRIS_SSIM')\n",
    "\n",
    "eai4 = pd.read_excel(xls, 'EAI_IRIS_BHATT')\n",
    "eai5 = pd.read_excel(xls, 'EAI_IRIS_PSNR')\n",
    "eai6 = pd.read_excel(xls, 'EAI_IRIS_SSIM')"
   ]
  },
  {
   "cell_type": "code",
   "execution_count": 237,
   "metadata": {},
   "outputs": [
    {
     "data": {
      "text/html": [
       "<div>\n",
       "<style scoped>\n",
       "    .dataframe tbody tr th:only-of-type {\n",
       "        vertical-align: middle;\n",
       "    }\n",
       "\n",
       "    .dataframe tbody tr th {\n",
       "        vertical-align: top;\n",
       "    }\n",
       "\n",
       "    .dataframe thead th {\n",
       "        text-align: right;\n",
       "    }\n",
       "</style>\n",
       "<table border=\"1\" class=\"dataframe\">\n",
       "  <thead>\n",
       "    <tr style=\"text-align: right;\">\n",
       "      <th></th>\n",
       "      <th>pix2pix</th>\n",
       "      <th>favtGAN A</th>\n",
       "      <th>favtGAN B</th>\n",
       "      <th>favtGAN C</th>\n",
       "      <th>favtGAN D</th>\n",
       "    </tr>\n",
       "  </thead>\n",
       "  <tbody>\n",
       "    <tr>\n",
       "      <th>0</th>\n",
       "      <td>0.065677</td>\n",
       "      <td>0.067901</td>\n",
       "      <td>0.066523</td>\n",
       "      <td>0.071269</td>\n",
       "      <td>0.081323</td>\n",
       "    </tr>\n",
       "    <tr>\n",
       "      <th>1</th>\n",
       "      <td>0.068807</td>\n",
       "      <td>0.064124</td>\n",
       "      <td>0.079189</td>\n",
       "      <td>0.076129</td>\n",
       "      <td>0.082754</td>\n",
       "    </tr>\n",
       "    <tr>\n",
       "      <th>2</th>\n",
       "      <td>0.060539</td>\n",
       "      <td>0.060472</td>\n",
       "      <td>0.076012</td>\n",
       "      <td>0.064001</td>\n",
       "      <td>0.084999</td>\n",
       "    </tr>\n",
       "    <tr>\n",
       "      <th>3</th>\n",
       "      <td>0.064536</td>\n",
       "      <td>0.060420</td>\n",
       "      <td>0.063388</td>\n",
       "      <td>0.061692</td>\n",
       "      <td>0.071456</td>\n",
       "    </tr>\n",
       "    <tr>\n",
       "      <th>4</th>\n",
       "      <td>0.074218</td>\n",
       "      <td>0.068427</td>\n",
       "      <td>0.087128</td>\n",
       "      <td>0.075597</td>\n",
       "      <td>0.111998</td>\n",
       "    </tr>\n",
       "    <tr>\n",
       "      <th>...</th>\n",
       "      <td>...</td>\n",
       "      <td>...</td>\n",
       "      <td>...</td>\n",
       "      <td>...</td>\n",
       "      <td>...</td>\n",
       "    </tr>\n",
       "    <tr>\n",
       "      <th>100</th>\n",
       "      <td>0.061853</td>\n",
       "      <td>0.065646</td>\n",
       "      <td>0.074958</td>\n",
       "      <td>0.070820</td>\n",
       "      <td>0.067899</td>\n",
       "    </tr>\n",
       "    <tr>\n",
       "      <th>101</th>\n",
       "      <td>0.058489</td>\n",
       "      <td>0.056145</td>\n",
       "      <td>0.066059</td>\n",
       "      <td>0.058863</td>\n",
       "      <td>0.092946</td>\n",
       "    </tr>\n",
       "    <tr>\n",
       "      <th>102</th>\n",
       "      <td>0.058190</td>\n",
       "      <td>0.054317</td>\n",
       "      <td>0.083582</td>\n",
       "      <td>0.055827</td>\n",
       "      <td>0.101353</td>\n",
       "    </tr>\n",
       "    <tr>\n",
       "      <th>103</th>\n",
       "      <td>0.062021</td>\n",
       "      <td>0.055965</td>\n",
       "      <td>0.064745</td>\n",
       "      <td>0.069573</td>\n",
       "      <td>0.080291</td>\n",
       "    </tr>\n",
       "    <tr>\n",
       "      <th>104</th>\n",
       "      <td>0.063505</td>\n",
       "      <td>0.064527</td>\n",
       "      <td>0.136943</td>\n",
       "      <td>0.075431</td>\n",
       "      <td>0.129446</td>\n",
       "    </tr>\n",
       "  </tbody>\n",
       "</table>\n",
       "<p>105 rows × 5 columns</p>\n",
       "</div>"
      ],
      "text/plain": [
       "      pix2pix  favtGAN A  favtGAN B  favtGAN C  favtGAN D\n",
       "0    0.065677   0.067901   0.066523   0.071269   0.081323\n",
       "1    0.068807   0.064124   0.079189   0.076129   0.082754\n",
       "2    0.060539   0.060472   0.076012   0.064001   0.084999\n",
       "3    0.064536   0.060420   0.063388   0.061692   0.071456\n",
       "4    0.074218   0.068427   0.087128   0.075597   0.111998\n",
       "..        ...        ...        ...        ...        ...\n",
       "100  0.061853   0.065646   0.074958   0.070820   0.067899\n",
       "101  0.058489   0.056145   0.066059   0.058863   0.092946\n",
       "102  0.058190   0.054317   0.083582   0.055827   0.101353\n",
       "103  0.062021   0.055965   0.064745   0.069573   0.080291\n",
       "104  0.063505   0.064527   0.136943   0.075431   0.129446\n",
       "\n",
       "[105 rows x 5 columns]"
      ]
     },
     "execution_count": 237,
     "metadata": {},
     "output_type": "execute_result"
    }
   ],
   "source": [
    "ei1"
   ]
  },
  {
   "cell_type": "code",
   "execution_count": 238,
   "metadata": {},
   "outputs": [
    {
     "data": {
      "text/plain": [
       "pandas.core.series.Series"
      ]
     },
     "execution_count": 238,
     "metadata": {},
     "output_type": "execute_result"
    }
   ],
   "source": [
    "# Standard Deviation \n",
    "\n",
    "type(ei1.std(axis = 0, skipna = True))"
   ]
  },
  {
   "cell_type": "markdown",
   "metadata": {},
   "source": [
    "Eur EI"
   ]
  },
  {
   "cell_type": "code",
   "execution_count": 239,
   "metadata": {},
   "outputs": [
    {
     "name": "stdout",
     "output_type": "stream",
     "text": [
      "           EI_EUR_BHATT  EI_EUR_PSNR  EI_EUR_SSIM\n",
      "pix2pix        0.008099     1.321826     0.011502\n",
      "favtGAN A      0.008757     1.431445     0.012556\n",
      "favtGAN B      0.017102     1.711494     0.016656\n",
      "favtGAN C      0.008507     1.299499     0.011676\n",
      "favtGAN D      0.017697     1.545791     0.015860\n"
     ]
    }
   ],
   "source": [
    "eur_EI_frame = { 'EI_EUR_BHATT': ei1.std(axis = 0, skipna = True), \n",
    "         'EI_EUR_PSNR': ei2.std(axis = 0, skipna = True),\n",
    "        'EI_EUR_SSIM': ei3.std(axis = 0, skipna = True)} \n",
    "  \n",
    "eur_EI_result = pd.DataFrame(eur_EI_frame) \n",
    "  \n",
    "print(eur_EI_result) "
   ]
  },
  {
   "cell_type": "code",
   "execution_count": 240,
   "metadata": {},
   "outputs": [
    {
     "name": "stdout",
     "output_type": "stream",
     "text": [
      "           EI_EUR_BHATT  EI_EUR_PSNR  EI_EUR_SSIM\n",
      "pix2pix        0.066457    32.133089     0.924343\n",
      "favtGAN A      0.065294    32.365788     0.925370\n",
      "favtGAN B      0.080276    29.229603     0.913790\n",
      "favtGAN C      0.068536    31.834757     0.924704\n",
      "favtGAN D      0.089172    28.241701     0.909289\n"
     ]
    }
   ],
   "source": [
    "eur_EI_frameM = { 'EI_EUR_BHATT': ei1.mean(axis = 0, skipna = True), \n",
    "         'EI_EUR_PSNR': ei2.mean(axis = 0, skipna = True),\n",
    "        'EI_EUR_SSIM': ei3.mean(axis = 0, skipna = True)} \n",
    "  \n",
    "eur_EI_resultM = pd.DataFrame(eur_EI_frameM) \n",
    "  \n",
    "print(eur_EI_resultM) "
   ]
  },
  {
   "cell_type": "markdown",
   "metadata": {},
   "source": [
    "Eur EAI"
   ]
  },
  {
   "cell_type": "code",
   "execution_count": 241,
   "metadata": {},
   "outputs": [
    {
     "name": "stdout",
     "output_type": "stream",
     "text": [
      "           EAI_EUR_BHATT  EAI_EUR_PSNR  EAI_EUR_SSIM\n",
      "pix2pix         0.009976      1.384619      0.013506\n",
      "favtGAN A       0.011237      1.395873      0.013415\n",
      "favtGAN B       0.027967      1.607296      0.018651\n",
      "favtGAN C       0.007209      1.426294      0.013293\n",
      "favtGAN D       0.025151      1.510121      0.017306\n"
     ]
    }
   ],
   "source": [
    "eur_EAI_frame = { \n",
    "        'EAI_EUR_BHATT': eai1.std(axis = 0, skipna = True),\n",
    "        'EAI_EUR_PSNR': eai2.std(axis = 0, skipna = True),\n",
    "        'EAI_EUR_SSIM': eai3.std(axis = 0, skipna = True)} \n",
    "  \n",
    "eur_EAI_result = pd.DataFrame(eur_EAI_frame) \n",
    "  \n",
    "print(eur_EAI_result) "
   ]
  },
  {
   "cell_type": "code",
   "execution_count": 242,
   "metadata": {},
   "outputs": [
    {
     "name": "stdout",
     "output_type": "stream",
     "text": [
      "           EAI_EUR_BHATT  EAI_EUR_PSNR  EAI_EUR_SSIM\n",
      "pix2pix         0.062754     31.463256      0.918861\n",
      "favtGAN A       0.059806     31.374435      0.919275\n",
      "favtGAN B       0.111658     27.924896      0.899040\n",
      "favtGAN C       0.060971     31.559063      0.920404\n",
      "favtGAN D       0.093833     29.050483      0.904738\n"
     ]
    }
   ],
   "source": [
    "eur_EAI_frameM = { \n",
    "        'EAI_EUR_BHATT': eai1.mean(axis = 0, skipna = True),\n",
    "        'EAI_EUR_PSNR': eai2.mean(axis = 0, skipna = True),\n",
    "        'EAI_EUR_SSIM': eai3.mean(axis = 0, skipna = True)} \n",
    "  \n",
    "eur_EAI_resultM = pd.DataFrame(eur_EAI_frameM) \n",
    "  \n",
    "print(eur_EAI_resultM) "
   ]
  },
  {
   "cell_type": "markdown",
   "metadata": {},
   "source": [
    "Iris EI"
   ]
  },
  {
   "cell_type": "code",
   "execution_count": 243,
   "metadata": {},
   "outputs": [
    {
     "name": "stdout",
     "output_type": "stream",
     "text": [
      "           EI_IRIS_BHATT  EI_IRIS_PSNR  EI_IRIS_SSIM\n",
      "pix2pix         0.013044      0.894394      0.021083\n",
      "favtGAN A       0.022225      0.830855      0.021605\n",
      "favtGAN B       0.016921      1.128222      0.025995\n",
      "favtGAN C       0.017234      0.810641      0.021547\n",
      "favtGAN D       0.014620      1.159246      0.026489\n"
     ]
    }
   ],
   "source": [
    "iris_EI_frame= { 'EI_IRIS_BHATT': ei4.std(axis = 0, skipna = True), \n",
    "         'EI_IRIS_PSNR': ei5.std(axis = 0, skipna = True),\n",
    "        'EI_IRIS_SSIM': ei6.std(axis = 0, skipna = True)} \n",
    "  \n",
    "iris_EI_result = pd.DataFrame(iris_EI_frame) \n",
    "  \n",
    "print(iris_EI_result) "
   ]
  },
  {
   "cell_type": "code",
   "execution_count": 244,
   "metadata": {},
   "outputs": [
    {
     "name": "stdout",
     "output_type": "stream",
     "text": [
      "           EI_IRIS_BHATT  EI_IRIS_PSNR  EI_IRIS_SSIM\n",
      "pix2pix         0.186732     23.945728      0.681329\n",
      "favtGAN A       0.203793     24.059560      0.682492\n",
      "favtGAN B       0.197170     21.999652      0.652960\n",
      "favtGAN C       0.192547     23.989818      0.682126\n",
      "favtGAN D       0.196144     22.082852      0.651947\n"
     ]
    }
   ],
   "source": [
    "iris_EI_frameM = { 'EI_IRIS_BHATT': ei4.mean(axis = 0, skipna = True), \n",
    "         'EI_IRIS_PSNR': ei5.mean(axis = 0, skipna = True),\n",
    "        'EI_IRIS_SSIM': ei6.mean(axis = 0, skipna = True)} \n",
    "  \n",
    "iris_EI_resultM = pd.DataFrame(iris_EI_frameM) \n",
    "  \n",
    "print(iris_EI_resultM) "
   ]
  },
  {
   "cell_type": "markdown",
   "metadata": {},
   "source": [
    "Iris EAI"
   ]
  },
  {
   "cell_type": "code",
   "execution_count": 245,
   "metadata": {},
   "outputs": [
    {
     "name": "stdout",
     "output_type": "stream",
     "text": [
      "           EAI_IRIS_BHATT  EAI_IRIS_PSNR  EAI_IRIS_SSIM\n",
      "pix2pix          0.010006       0.960362       0.023319\n",
      "favtGAN A        0.013954       0.908714       0.022559\n",
      "favtGAN B        0.009264       1.085123       0.024582\n",
      "favtGAN C        0.010149       0.977584       0.023203\n",
      "favtGAN D        0.013983       1.082129       0.025239\n"
     ]
    }
   ],
   "source": [
    "iris_EAI_frame = { \n",
    "        'EAI_IRIS_BHATT': eai4.std(axis = 0, skipna = True),\n",
    "        'EAI_IRIS_PSNR': eai5.std(axis = 0, skipna = True),\n",
    "        'EAI_IRIS_SSIM': eai6.std(axis = 0, skipna = True)} \n",
    "  \n",
    "iris_EAI_result = pd.DataFrame(iris_EAI_frame) \n",
    "  \n",
    "print(iris_EAI_result) "
   ]
  },
  {
   "cell_type": "code",
   "execution_count": 246,
   "metadata": {},
   "outputs": [
    {
     "name": "stdout",
     "output_type": "stream",
     "text": [
      "           EAI_IRIS_BHATT  EAI_IRIS_PSNR  EAI_IRIS_SSIM\n",
      "pix2pix          0.193414      22.988859       0.662767\n",
      "favtGAN A        0.198110      22.966377       0.662364\n",
      "favtGAN B        0.197046      21.914899       0.645982\n",
      "favtGAN C        0.187548      22.957082       0.662034\n",
      "favtGAN D        0.200424      21.681341       0.642789\n"
     ]
    }
   ],
   "source": [
    "iris_EAI_frameM = { \n",
    "        'EAI_IRIS_BHATT': eai4.mean(axis = 0, skipna = True),\n",
    "        'EAI_IRIS_PSNR': eai5.mean(axis = 0, skipna = True),\n",
    "        'EAI_IRIS_SSIM': eai6.mean(axis = 0, skipna = True)} \n",
    "  \n",
    "iris_EAI_resultM = pd.DataFrame(iris_EAI_frameM) \n",
    "  \n",
    "print(iris_EAI_resultM) "
   ]
  },
  {
   "cell_type": "markdown",
   "metadata": {},
   "source": [
    "Wilcoxon"
   ]
  },
  {
   "cell_type": "code",
   "execution_count": 247,
   "metadata": {},
   "outputs": [],
   "source": [
    "from scipy import stats"
   ]
  },
  {
   "cell_type": "code",
   "execution_count": 248,
   "metadata": {},
   "outputs": [
    {
     "data": {
      "text/plain": [
       "(0.9070541858673096, 1.8868379356717924e-06)"
      ]
     },
     "execution_count": 248,
     "metadata": {},
     "output_type": "execute_result"
    }
   ],
   "source": [
    "stats.shapiro(ei1['pix2pix']) # shows that we reject the null hypothesis that this is normally distributed since p-value is .0000001538"
   ]
  },
  {
   "cell_type": "code",
   "execution_count": 249,
   "metadata": {},
   "outputs": [
    {
     "data": {
      "text/plain": [
       "(0.9598667621612549, 0.002930235583335161)"
      ]
     },
     "execution_count": 249,
     "metadata": {},
     "output_type": "execute_result"
    }
   ],
   "source": [
    "stats.shapiro(eai1['favtGAN B'])"
   ]
  },
  {
   "cell_type": "code",
   "execution_count": 250,
   "metadata": {},
   "outputs": [],
   "source": [
    "# since the data are not normally distributed we need to perform a non-parametric t-test\n",
    "# https://docs.scipy.org/doc/scipy/reference/generated/scipy.stats.wilcoxon.html\n",
    "# default zero method\n",
    "\n",
    "# we are seeking to reject the null hypothesis at a confidence level of 5%\n",
    "\n",
    "from scipy.stats import wilcoxon"
   ]
  },
  {
   "cell_type": "code",
   "execution_count": 251,
   "metadata": {},
   "outputs": [
    {
     "data": {
      "text/html": [
       "<div>\n",
       "<style scoped>\n",
       "    .dataframe tbody tr th:only-of-type {\n",
       "        vertical-align: middle;\n",
       "    }\n",
       "\n",
       "    .dataframe tbody tr th {\n",
       "        vertical-align: top;\n",
       "    }\n",
       "\n",
       "    .dataframe thead th {\n",
       "        text-align: right;\n",
       "    }\n",
       "</style>\n",
       "<table border=\"1\" class=\"dataframe\">\n",
       "  <thead>\n",
       "    <tr style=\"text-align: right;\">\n",
       "      <th></th>\n",
       "      <th>pix2pix</th>\n",
       "      <th>favtGAN A</th>\n",
       "      <th>favtGAN B</th>\n",
       "      <th>favtGAN C</th>\n",
       "      <th>favtGAN D</th>\n",
       "    </tr>\n",
       "  </thead>\n",
       "  <tbody>\n",
       "    <tr>\n",
       "      <th>0</th>\n",
       "      <td>0.065677</td>\n",
       "      <td>0.067901</td>\n",
       "      <td>0.066523</td>\n",
       "      <td>0.071269</td>\n",
       "      <td>0.081323</td>\n",
       "    </tr>\n",
       "    <tr>\n",
       "      <th>1</th>\n",
       "      <td>0.068807</td>\n",
       "      <td>0.064124</td>\n",
       "      <td>0.079189</td>\n",
       "      <td>0.076129</td>\n",
       "      <td>0.082754</td>\n",
       "    </tr>\n",
       "    <tr>\n",
       "      <th>2</th>\n",
       "      <td>0.060539</td>\n",
       "      <td>0.060472</td>\n",
       "      <td>0.076012</td>\n",
       "      <td>0.064001</td>\n",
       "      <td>0.084999</td>\n",
       "    </tr>\n",
       "    <tr>\n",
       "      <th>3</th>\n",
       "      <td>0.064536</td>\n",
       "      <td>0.060420</td>\n",
       "      <td>0.063388</td>\n",
       "      <td>0.061692</td>\n",
       "      <td>0.071456</td>\n",
       "    </tr>\n",
       "    <tr>\n",
       "      <th>4</th>\n",
       "      <td>0.074218</td>\n",
       "      <td>0.068427</td>\n",
       "      <td>0.087128</td>\n",
       "      <td>0.075597</td>\n",
       "      <td>0.111998</td>\n",
       "    </tr>\n",
       "  </tbody>\n",
       "</table>\n",
       "</div>"
      ],
      "text/plain": [
       "    pix2pix  favtGAN A  favtGAN B  favtGAN C  favtGAN D\n",
       "0  0.065677   0.067901   0.066523   0.071269   0.081323\n",
       "1  0.068807   0.064124   0.079189   0.076129   0.082754\n",
       "2  0.060539   0.060472   0.076012   0.064001   0.084999\n",
       "3  0.064536   0.060420   0.063388   0.061692   0.071456\n",
       "4  0.074218   0.068427   0.087128   0.075597   0.111998"
      ]
     },
     "execution_count": 251,
     "metadata": {},
     "output_type": "execute_result"
    }
   ],
   "source": [
    "ei1.head()"
   ]
  },
  {
   "cell_type": "code",
   "execution_count": 252,
   "metadata": {},
   "outputs": [
    {
     "name": "stdout",
     "output_type": "stream",
     "text": [
      "Wilcoxon value: 1875.0 P-Value: 0.003718492784442908\n"
     ]
    }
   ],
   "source": [
    "w,p = wilcoxon(ei1['pix2pix'], ei1['favtGAN A'])\n",
    "print(\"Wilcoxon value:\", w, \"P-Value:\", p)"
   ]
  },
  {
   "cell_type": "code",
   "execution_count": 253,
   "metadata": {},
   "outputs": [
    {
     "data": {
      "text/plain": [
       "0      0.065677\n",
       "1      0.068807\n",
       "2      0.060539\n",
       "3      0.064536\n",
       "4      0.074218\n",
       "         ...   \n",
       "100    0.061853\n",
       "101    0.058489\n",
       "102    0.058190\n",
       "103    0.062021\n",
       "104    0.063505\n",
       "Name: pix2pix, Length: 105, dtype: float64"
      ]
     },
     "execution_count": 253,
     "metadata": {},
     "output_type": "execute_result"
    }
   ],
   "source": [
    "#ei1.iloc[:, [1]]\n",
    "\n",
    "ei1.iloc[:,0]"
   ]
  },
  {
   "cell_type": "code",
   "execution_count": 254,
   "metadata": {},
   "outputs": [
    {
     "name": "stdout",
     "output_type": "stream",
     "text": [
      "Wilcoxon value: 88.0 P-Value: 7.067531560347754e-18\n"
     ]
    }
   ],
   "source": [
    "w,p = wilcoxon(ei1.iloc[:, 0], ei1.iloc[:, 4])\n",
    "print(\"Wilcoxon value:\", w, \"P-Value:\", p)"
   ]
  },
  {
   "cell_type": "code",
   "execution_count": 255,
   "metadata": {},
   "outputs": [
    {
     "data": {
      "text/plain": [
       "5"
      ]
     },
     "execution_count": 255,
     "metadata": {},
     "output_type": "execute_result"
    }
   ],
   "source": [
    "len(ei1.columns)"
   ]
  },
  {
   "cell_type": "code",
   "execution_count": 256,
   "metadata": {},
   "outputs": [],
   "source": [
    "def wilcoxon_vs_p2p(df):\n",
    "    values = []\n",
    "    for i in range(1, len(df.columns)):\n",
    "        #print(i)\n",
    "        w,p = wilcoxon(df.iloc[:, 0], df.iloc[:, i]) #always compare the first column against other which is P2P vs other favtGAN implementations\n",
    "        print(\"Wilcoxon value:\", w, \"P-Value:\", p)\n",
    "        #a_list.append(tuple((3, 4)))\n",
    "        values.append(tuple((w,p)))\n",
    "    df = pd.DataFrame.from_records(values, columns =['W Value', 'p-val']) \n",
    "    return df\n",
    "    "
   ]
  },
  {
   "cell_type": "markdown",
   "metadata": {},
   "source": [
    "Eurecom p-values"
   ]
  },
  {
   "cell_type": "code",
   "execution_count": 257,
   "metadata": {},
   "outputs": [
    {
     "name": "stdout",
     "output_type": "stream",
     "text": [
      "Wilcoxon value: 1875.0 P-Value: 0.003718492784442908\n",
      "Wilcoxon value: 384.0 P-Value: 1.753146903774484e-14\n",
      "Wilcoxon value: 1533.0 P-Value: 6.485446530421069e-05\n",
      "Wilcoxon value: 88.0 P-Value: 7.067531560347754e-18\n"
     ]
    }
   ],
   "source": [
    "eur_EI_Bhatt_w = wilcoxon_vs_p2p(ei1)\n",
    "eur_EI_Bhatt_w\n",
    "eur_EI_Bhatt_w.to_csv('eur_EI_Bhatt_w.csv')"
   ]
  },
  {
   "cell_type": "code",
   "execution_count": 258,
   "metadata": {},
   "outputs": [
    {
     "name": "stdout",
     "output_type": "stream",
     "text": [
      "Wilcoxon value: 1170.0 P-Value: 2.5382596437452617e-07\n",
      "Wilcoxon value: 0.0 P-Value: 5.835434739233746e-19\n",
      "Wilcoxon value: 960.0 P-Value: 5.6708398958094155e-09\n",
      "Wilcoxon value: 0.0 P-Value: 5.835434739233746e-19\n"
     ]
    }
   ],
   "source": [
    "eur_EI_PSNR_w = wilcoxon_vs_p2p(ei2)\n",
    "eur_EI_PSNR_w\n",
    "eur_EI_PSNR_w.to_csv('eur_EI_PSNR_w.csv')"
   ]
  },
  {
   "cell_type": "code",
   "execution_count": 259,
   "metadata": {},
   "outputs": [
    {
     "name": "stdout",
     "output_type": "stream",
     "text": [
      "Wilcoxon value: 1272.0 P-Value: 1.3737114274840803e-06\n",
      "Wilcoxon value: 0.0 P-Value: 5.835434739233746e-19\n",
      "Wilcoxon value: 2094.0 P-Value: 0.027735768002704924\n",
      "Wilcoxon value: 0.0 P-Value: 5.835434739233746e-19\n"
     ]
    }
   ],
   "source": [
    "eur_EI_SSIM_w = wilcoxon_vs_p2p(ei3)\n",
    "eur_EI_SSIM_w \n",
    "eur_EI_SSIM_w.to_csv('eur_EI_SSIM_w.csv')"
   ]
  },
  {
   "cell_type": "code",
   "execution_count": 260,
   "metadata": {},
   "outputs": [
    {
     "name": "stdout",
     "output_type": "stream",
     "text": [
      "Wilcoxon value: 1669.0 P-Value: 0.00037135246193002193\n",
      "Wilcoxon value: 5.0 P-Value: 6.737957095249949e-19\n",
      "Wilcoxon value: 2008.0 P-Value: 0.013288990359495998\n",
      "Wilcoxon value: 38.0 P-Value: 1.729743282988544e-18\n"
     ]
    }
   ],
   "source": [
    "eur_EAI_Bhatt_w = wilcoxon_vs_p2p(eai1)\n",
    "eur_EAI_Bhatt_w\n",
    "eur_EAI_Bhatt_w.to_csv('eur_EAI_Bhatt_w.csv')"
   ]
  },
  {
   "cell_type": "code",
   "execution_count": 261,
   "metadata": {},
   "outputs": [
    {
     "data": {
      "text/html": [
       "<div>\n",
       "<style scoped>\n",
       "    .dataframe tbody tr th:only-of-type {\n",
       "        vertical-align: middle;\n",
       "    }\n",
       "\n",
       "    .dataframe tbody tr th {\n",
       "        vertical-align: top;\n",
       "    }\n",
       "\n",
       "    .dataframe thead th {\n",
       "        text-align: right;\n",
       "    }\n",
       "</style>\n",
       "<table border=\"1\" class=\"dataframe\">\n",
       "  <thead>\n",
       "    <tr style=\"text-align: right;\">\n",
       "      <th></th>\n",
       "      <th>pix2pix</th>\n",
       "      <th>favtGAN A</th>\n",
       "      <th>favtGAN B</th>\n",
       "      <th>favtGAN C</th>\n",
       "      <th>favtGAN D</th>\n",
       "    </tr>\n",
       "  </thead>\n",
       "  <tbody>\n",
       "    <tr>\n",
       "      <th>0</th>\n",
       "      <td>29.012335</td>\n",
       "      <td>29.604272</td>\n",
       "      <td>27.509643</td>\n",
       "      <td>29.797220</td>\n",
       "      <td>27.087776</td>\n",
       "    </tr>\n",
       "    <tr>\n",
       "      <th>1</th>\n",
       "      <td>30.571000</td>\n",
       "      <td>30.774273</td>\n",
       "      <td>28.217932</td>\n",
       "      <td>30.772744</td>\n",
       "      <td>29.226888</td>\n",
       "    </tr>\n",
       "    <tr>\n",
       "      <th>2</th>\n",
       "      <td>31.097975</td>\n",
       "      <td>31.271562</td>\n",
       "      <td>26.826751</td>\n",
       "      <td>31.396523</td>\n",
       "      <td>28.857972</td>\n",
       "    </tr>\n",
       "    <tr>\n",
       "      <th>3</th>\n",
       "      <td>31.256816</td>\n",
       "      <td>31.287388</td>\n",
       "      <td>26.904429</td>\n",
       "      <td>31.361624</td>\n",
       "      <td>29.183118</td>\n",
       "    </tr>\n",
       "    <tr>\n",
       "      <th>4</th>\n",
       "      <td>31.233047</td>\n",
       "      <td>32.298965</td>\n",
       "      <td>29.847576</td>\n",
       "      <td>31.462824</td>\n",
       "      <td>30.706876</td>\n",
       "    </tr>\n",
       "  </tbody>\n",
       "</table>\n",
       "</div>"
      ],
      "text/plain": [
       "     pix2pix  favtGAN A  favtGAN B  favtGAN C  favtGAN D\n",
       "0  29.012335  29.604272  27.509643  29.797220  27.087776\n",
       "1  30.571000  30.774273  28.217932  30.772744  29.226888\n",
       "2  31.097975  31.271562  26.826751  31.396523  28.857972\n",
       "3  31.256816  31.287388  26.904429  31.361624  29.183118\n",
       "4  31.233047  32.298965  29.847576  31.462824  30.706876"
      ]
     },
     "execution_count": 261,
     "metadata": {},
     "output_type": "execute_result"
    }
   ],
   "source": [
    "eai2.head()"
   ]
  },
  {
   "cell_type": "code",
   "execution_count": 262,
   "metadata": {},
   "outputs": [
    {
     "name": "stdout",
     "output_type": "stream",
     "text": [
      "Wilcoxon value: 0.0 P-Value: 5.835434739233746e-19\n"
     ]
    }
   ],
   "source": [
    "w,p = wilcoxon(eai2['pix2pix'], eai2['favtGAN B'])\n",
    "print(\"Wilcoxon value:\", w, \"P-Value:\", p)"
   ]
  },
  {
   "cell_type": "code",
   "execution_count": 263,
   "metadata": {},
   "outputs": [
    {
     "name": "stdout",
     "output_type": "stream",
     "text": [
      "Wilcoxon value: 2184.0 P-Value: 0.05571084468207603\n",
      "Wilcoxon value: 0.0 P-Value: 5.835434739233746e-19\n",
      "Wilcoxon value: 2135.0 P-Value: 0.0384584872417471\n",
      "Wilcoxon value: 0.0 P-Value: 5.835434739233746e-19\n"
     ]
    }
   ],
   "source": [
    "eur_EAI_PSNR_w = wilcoxon_vs_p2p(eai2)\n",
    "eur_EAI_PSNR_w\n",
    "eur_EAI_PSNR_w.to_csv('eur_EAI_PSNR_w.csv')"
   ]
  },
  {
   "cell_type": "code",
   "execution_count": 264,
   "metadata": {},
   "outputs": [
    {
     "name": "stdout",
     "output_type": "stream",
     "text": [
      "Wilcoxon value: 2419.0 P-Value: 0.24521905593382531\n",
      "Wilcoxon value: 1.0 P-Value: 6.005829425657597e-19\n",
      "Wilcoxon value: 1279.0 P-Value: 1.5366946527058653e-06\n",
      "Wilcoxon value: 1.0 P-Value: 6.005829425657597e-19\n"
     ]
    }
   ],
   "source": [
    "eur_EAI_SSIM_w = wilcoxon_vs_p2p(eai3)\n",
    "eur_EAI_SSIM_w\n",
    "eur_EAI_SSIM_w.to_csv('eur_EAI_SSIM_w.csv')"
   ]
  },
  {
   "cell_type": "markdown",
   "metadata": {},
   "source": [
    "Iris p-values"
   ]
  },
  {
   "cell_type": "code",
   "execution_count": 265,
   "metadata": {},
   "outputs": [
    {
     "name": "stdout",
     "output_type": "stream",
     "text": [
      "Wilcoxon value: 183.0 P-Value: 1.9189916773503666e-15\n",
      "Wilcoxon value: 471.0 P-Value: 4.3314746563382886e-12\n",
      "Wilcoxon value: 1168.0 P-Value: 8.348432351169276e-06\n",
      "Wilcoxon value: 572.0 P-Value: 5.098871264604243e-11\n"
     ]
    }
   ],
   "source": [
    "iris_EI_Bhatt_w = wilcoxon_vs_p2p(ei4)\n",
    "iris_EI_Bhatt_w\n",
    "iris_EI_Bhatt_w.to_csv('iris_EI_Bhatt_w.csv')"
   ]
  },
  {
   "cell_type": "code",
   "execution_count": 266,
   "metadata": {},
   "outputs": [
    {
     "name": "stdout",
     "output_type": "stream",
     "text": [
      "Wilcoxon value: 1631.0 P-Value: 0.004872081370798618\n",
      "Wilcoxon value: 0.0 P-Value: 8.33039747348591e-18\n",
      "Wilcoxon value: 2119.0 P-Value: 0.27743194479733835\n",
      "Wilcoxon value: 0.0 P-Value: 8.33039747348591e-18\n"
     ]
    }
   ],
   "source": [
    "iris_EI_PSNR_w = wilcoxon_vs_p2p(ei5)\n",
    "iris_EI_PSNR_w\n",
    "iris_EI_PSNR_w.to_csv('iris_EI_PSNR_w.csv')"
   ]
  },
  {
   "cell_type": "code",
   "execution_count": 267,
   "metadata": {},
   "outputs": [
    {
     "name": "stdout",
     "output_type": "stream",
     "text": [
      "Wilcoxon value: 1730.0 P-Value: 0.01371824378573242\n",
      "Wilcoxon value: 0.0 P-Value: 8.33039747348591e-18\n",
      "Wilcoxon value: 1974.0 P-Value: 0.10961522035290601\n",
      "Wilcoxon value: 0.0 P-Value: 8.33039747348591e-18\n"
     ]
    }
   ],
   "source": [
    "iris_EI_SSIM_w = wilcoxon_vs_p2p(ei6)\n",
    "iris_EI_SSIM_w\n",
    "iris_EI_SSIM_w.to_csv('iris_EI_SSIM_w.csv')"
   ]
  },
  {
   "cell_type": "code",
   "execution_count": 268,
   "metadata": {},
   "outputs": [
    {
     "name": "stdout",
     "output_type": "stream",
     "text": [
      "Wilcoxon value: 1699.0 P-Value: 0.010041158911700791\n",
      "Wilcoxon value: 1567.0 P-Value: 0.0023488634687391903\n",
      "Wilcoxon value: 893.0 P-Value: 5.618638702780043e-08\n",
      "Wilcoxon value: 982.0 P-Value: 3.134861148677993e-07\n"
     ]
    }
   ],
   "source": [
    "iris_EAI_Bhatt_w = wilcoxon_vs_p2p(eai4)\n",
    "iris_EAI_Bhatt_w\n",
    "iris_EAI_Bhatt_w.to_csv('iris_EAI_Bhatt_w.csv')"
   ]
  },
  {
   "cell_type": "code",
   "execution_count": 269,
   "metadata": {},
   "outputs": [
    {
     "name": "stdout",
     "output_type": "stream",
     "text": [
      "Wilcoxon value: 2167.0 P-Value: 0.35965921046307936\n",
      "Wilcoxon value: 5.0 P-Value: 9.718677086453942e-18\n",
      "Wilcoxon value: 2164.0 P-Value: 0.3541106840030469\n",
      "Wilcoxon value: 2.0 P-Value: 8.860504485789389e-18\n"
     ]
    }
   ],
   "source": [
    "iris_EAI_PSNR_w = wilcoxon_vs_p2p(eai5)\n",
    "iris_EAI_PSNR_w\n",
    "iris_EAI_PSNR_w.to_csv('iris_EAI_PSNR_w.csv')"
   ]
  },
  {
   "cell_type": "code",
   "execution_count": 270,
   "metadata": {},
   "outputs": [
    {
     "name": "stdout",
     "output_type": "stream",
     "text": [
      "Wilcoxon value: 2169.0 P-Value: 0.3633883980779281\n",
      "Wilcoxon value: 1.0 P-Value: 8.59141661178098e-18\n",
      "Wilcoxon value: 1992.0 P-Value: 0.12450389472832109\n",
      "Wilcoxon value: 0.0 P-Value: 8.33039747348591e-18\n"
     ]
    }
   ],
   "source": [
    "iris_EAI_SSIM_w = wilcoxon_vs_p2p(eai6)\n",
    "iris_EAI_SSIM_w\n",
    "iris_EAI_SSIM_w.to_csv('iris_EAI_SSIM_w.csv')"
   ]
  },
  {
   "cell_type": "markdown",
   "metadata": {},
   "source": [
    "Combine all Wilcoxon for paper appendix"
   ]
  },
  {
   "cell_type": "markdown",
   "metadata": {},
   "source": [
    "Make complete table for paper"
   ]
  },
  {
   "cell_type": "code",
   "execution_count": 271,
   "metadata": {},
   "outputs": [
    {
     "data": {
      "text/html": [
       "<div>\n",
       "<style scoped>\n",
       "    .dataframe tbody tr th:only-of-type {\n",
       "        vertical-align: middle;\n",
       "    }\n",
       "\n",
       "    .dataframe tbody tr th {\n",
       "        vertical-align: top;\n",
       "    }\n",
       "\n",
       "    .dataframe thead th {\n",
       "        text-align: right;\n",
       "    }\n",
       "</style>\n",
       "<table border=\"1\" class=\"dataframe\">\n",
       "  <thead>\n",
       "    <tr style=\"text-align: right;\">\n",
       "      <th></th>\n",
       "      <th>EI_IRIS_BHATT</th>\n",
       "      <th>EI_IRIS_PSNR</th>\n",
       "      <th>EI_IRIS_SSIM</th>\n",
       "    </tr>\n",
       "  </thead>\n",
       "  <tbody>\n",
       "    <tr>\n",
       "      <th>pix2pix</th>\n",
       "      <td>0.187</td>\n",
       "      <td>23.946</td>\n",
       "      <td>0.681</td>\n",
       "    </tr>\n",
       "    <tr>\n",
       "      <th>favtGAN A</th>\n",
       "      <td>0.204</td>\n",
       "      <td>24.060</td>\n",
       "      <td>0.682</td>\n",
       "    </tr>\n",
       "    <tr>\n",
       "      <th>favtGAN B</th>\n",
       "      <td>0.197</td>\n",
       "      <td>22.000</td>\n",
       "      <td>0.653</td>\n",
       "    </tr>\n",
       "    <tr>\n",
       "      <th>favtGAN C</th>\n",
       "      <td>0.193</td>\n",
       "      <td>23.990</td>\n",
       "      <td>0.682</td>\n",
       "    </tr>\n",
       "    <tr>\n",
       "      <th>favtGAN D</th>\n",
       "      <td>0.196</td>\n",
       "      <td>22.083</td>\n",
       "      <td>0.652</td>\n",
       "    </tr>\n",
       "  </tbody>\n",
       "</table>\n",
       "</div>"
      ],
      "text/plain": [
       "           EI_IRIS_BHATT  EI_IRIS_PSNR  EI_IRIS_SSIM\n",
       "pix2pix            0.187        23.946         0.681\n",
       "favtGAN A          0.204        24.060         0.682\n",
       "favtGAN B          0.197        22.000         0.653\n",
       "favtGAN C          0.193        23.990         0.682\n",
       "favtGAN D          0.196        22.083         0.652"
      ]
     },
     "execution_count": 271,
     "metadata": {},
     "output_type": "execute_result"
    }
   ],
   "source": [
    "#Means\n",
    "df1 = pd.DataFrame.from_dict(iris_EI_frameM).round(3)\n",
    "df1"
   ]
  },
  {
   "cell_type": "code",
   "execution_count": 272,
   "metadata": {},
   "outputs": [
    {
     "data": {
      "text/html": [
       "<div>\n",
       "<style scoped>\n",
       "    .dataframe tbody tr th:only-of-type {\n",
       "        vertical-align: middle;\n",
       "    }\n",
       "\n",
       "    .dataframe tbody tr th {\n",
       "        vertical-align: top;\n",
       "    }\n",
       "\n",
       "    .dataframe thead th {\n",
       "        text-align: right;\n",
       "    }\n",
       "</style>\n",
       "<table border=\"1\" class=\"dataframe\">\n",
       "  <thead>\n",
       "    <tr style=\"text-align: right;\">\n",
       "      <th></th>\n",
       "      <th>EI_IRIS_BHATT</th>\n",
       "      <th>EI_IRIS_PSNR</th>\n",
       "      <th>EI_IRIS_SSIM</th>\n",
       "    </tr>\n",
       "  </thead>\n",
       "  <tbody>\n",
       "    <tr>\n",
       "      <th>pix2pix</th>\n",
       "      <td>0.013</td>\n",
       "      <td>0.894</td>\n",
       "      <td>0.021</td>\n",
       "    </tr>\n",
       "    <tr>\n",
       "      <th>favtGAN A</th>\n",
       "      <td>0.022</td>\n",
       "      <td>0.831</td>\n",
       "      <td>0.022</td>\n",
       "    </tr>\n",
       "    <tr>\n",
       "      <th>favtGAN B</th>\n",
       "      <td>0.017</td>\n",
       "      <td>1.128</td>\n",
       "      <td>0.026</td>\n",
       "    </tr>\n",
       "    <tr>\n",
       "      <th>favtGAN C</th>\n",
       "      <td>0.017</td>\n",
       "      <td>0.811</td>\n",
       "      <td>0.022</td>\n",
       "    </tr>\n",
       "    <tr>\n",
       "      <th>favtGAN D</th>\n",
       "      <td>0.015</td>\n",
       "      <td>1.159</td>\n",
       "      <td>0.026</td>\n",
       "    </tr>\n",
       "  </tbody>\n",
       "</table>\n",
       "</div>"
      ],
      "text/plain": [
       "           EI_IRIS_BHATT  EI_IRIS_PSNR  EI_IRIS_SSIM\n",
       "pix2pix            0.013         0.894         0.021\n",
       "favtGAN A          0.022         0.831         0.022\n",
       "favtGAN B          0.017         1.128         0.026\n",
       "favtGAN C          0.017         0.811         0.022\n",
       "favtGAN D          0.015         1.159         0.026"
      ]
     },
     "execution_count": 272,
     "metadata": {},
     "output_type": "execute_result"
    }
   ],
   "source": [
    "# Std\n",
    "df2 = pd.DataFrame.from_dict(iris_EI_frame).round(3)\n",
    "df2"
   ]
  },
  {
   "cell_type": "code",
   "execution_count": 273,
   "metadata": {},
   "outputs": [
    {
     "data": {
      "text/html": [
       "<div>\n",
       "<style scoped>\n",
       "    .dataframe tbody tr th:only-of-type {\n",
       "        vertical-align: middle;\n",
       "    }\n",
       "\n",
       "    .dataframe tbody tr th {\n",
       "        vertical-align: top;\n",
       "    }\n",
       "\n",
       "    .dataframe thead th {\n",
       "        text-align: right;\n",
       "    }\n",
       "</style>\n",
       "<table border=\"1\" class=\"dataframe\">\n",
       "  <thead>\n",
       "    <tr style=\"text-align: right;\">\n",
       "      <th></th>\n",
       "      <th>Mean Bhatt.</th>\n",
       "      <th>Std Bhatt.</th>\n",
       "      <th>Mean PSNR</th>\n",
       "      <th>Std PSNR</th>\n",
       "      <th>Mean SSIM</th>\n",
       "      <th>Std SSIM</th>\n",
       "    </tr>\n",
       "  </thead>\n",
       "  <tbody>\n",
       "    <tr>\n",
       "      <th>pix2pix</th>\n",
       "      <td>0.187</td>\n",
       "      <td>0.013</td>\n",
       "      <td>23.946</td>\n",
       "      <td>0.894</td>\n",
       "      <td>0.681</td>\n",
       "      <td>0.021</td>\n",
       "    </tr>\n",
       "    <tr>\n",
       "      <th>favtGAN A</th>\n",
       "      <td>0.204</td>\n",
       "      <td>0.022</td>\n",
       "      <td>24.060</td>\n",
       "      <td>0.831</td>\n",
       "      <td>0.682</td>\n",
       "      <td>0.022</td>\n",
       "    </tr>\n",
       "    <tr>\n",
       "      <th>favtGAN B</th>\n",
       "      <td>0.197</td>\n",
       "      <td>0.017</td>\n",
       "      <td>22.000</td>\n",
       "      <td>1.128</td>\n",
       "      <td>0.653</td>\n",
       "      <td>0.026</td>\n",
       "    </tr>\n",
       "    <tr>\n",
       "      <th>favtGAN C</th>\n",
       "      <td>0.193</td>\n",
       "      <td>0.017</td>\n",
       "      <td>23.990</td>\n",
       "      <td>0.811</td>\n",
       "      <td>0.682</td>\n",
       "      <td>0.022</td>\n",
       "    </tr>\n",
       "    <tr>\n",
       "      <th>favtGAN D</th>\n",
       "      <td>0.196</td>\n",
       "      <td>0.015</td>\n",
       "      <td>22.083</td>\n",
       "      <td>1.159</td>\n",
       "      <td>0.652</td>\n",
       "      <td>0.026</td>\n",
       "    </tr>\n",
       "  </tbody>\n",
       "</table>\n",
       "</div>"
      ],
      "text/plain": [
       "           Mean Bhatt.  Std Bhatt.  Mean PSNR  Std PSNR  Mean SSIM  Std SSIM\n",
       "pix2pix          0.187       0.013     23.946     0.894      0.681     0.021\n",
       "favtGAN A        0.204       0.022     24.060     0.831      0.682     0.022\n",
       "favtGAN B        0.197       0.017     22.000     1.128      0.653     0.026\n",
       "favtGAN C        0.193       0.017     23.990     0.811      0.682     0.022\n",
       "favtGAN D        0.196       0.015     22.083     1.159      0.652     0.026"
      ]
     },
     "execution_count": 273,
     "metadata": {},
     "output_type": "execute_result"
    }
   ],
   "source": [
    "ei_iris_stats = pd.merge(df1, df2, left_index=True, right_index=True)\n",
    "ei_iris_stats.columns = ['Mean Bhatt.', 'Mean PSNR', 'Mean SSIM', 'Std Bhatt.', 'Std PSNR', 'Std SSIM']\n",
    "ei_iris_stats = ei_iris_stats[['Mean Bhatt.', \n",
    "                               'Std Bhatt.',\n",
    "                               'Mean PSNR', \n",
    "                               'Std PSNR',\n",
    "                               'Mean SSIM',\n",
    "                               'Std SSIM']]\n",
    "ei_iris_stats"
   ]
  },
  {
   "cell_type": "code",
   "execution_count": 274,
   "metadata": {},
   "outputs": [],
   "source": [
    "def make_stats_tables(dict1, dict2):\n",
    "    df1 = pd.DataFrame.from_dict(dict1).round(3)\n",
    "    #print(df1)\n",
    "    df2 = pd.DataFrame.from_dict(dict2).round(3)\n",
    "    #print(df2)\n",
    "    stats = pd.merge(df1, df2, left_index=True, right_index=True)\n",
    "    #print(stats)\n",
    "    stats.columns = ['Mean Bhatt.', 'Mean PSNR', 'Mean SSIM', 'Std Bhatt.', 'Std PSNR', 'Std SSIM'] #rename columns\n",
    "    stats = stats[['Mean Bhatt.', \n",
    "                               'Std Bhatt.',\n",
    "                               'Mean PSNR', \n",
    "                               'Std PSNR',\n",
    "                               'Mean SSIM',\n",
    "                               'Std SSIM']] #reorder columns\n",
    "    return stats"
   ]
  },
  {
   "cell_type": "code",
   "execution_count": 275,
   "metadata": {},
   "outputs": [
    {
     "data": {
      "text/html": [
       "<div>\n",
       "<style scoped>\n",
       "    .dataframe tbody tr th:only-of-type {\n",
       "        vertical-align: middle;\n",
       "    }\n",
       "\n",
       "    .dataframe tbody tr th {\n",
       "        vertical-align: top;\n",
       "    }\n",
       "\n",
       "    .dataframe thead th {\n",
       "        text-align: right;\n",
       "    }\n",
       "</style>\n",
       "<table border=\"1\" class=\"dataframe\">\n",
       "  <thead>\n",
       "    <tr style=\"text-align: right;\">\n",
       "      <th></th>\n",
       "      <th>Mean Bhatt.</th>\n",
       "      <th>Std Bhatt.</th>\n",
       "      <th>Mean PSNR</th>\n",
       "      <th>Std PSNR</th>\n",
       "      <th>Mean SSIM</th>\n",
       "      <th>Std SSIM</th>\n",
       "    </tr>\n",
       "  </thead>\n",
       "  <tbody>\n",
       "    <tr>\n",
       "      <th>pix2pix</th>\n",
       "      <td>0.066</td>\n",
       "      <td>0.008</td>\n",
       "      <td>32.133</td>\n",
       "      <td>1.322</td>\n",
       "      <td>0.924</td>\n",
       "      <td>0.012</td>\n",
       "    </tr>\n",
       "    <tr>\n",
       "      <th>favtGAN A</th>\n",
       "      <td>0.065</td>\n",
       "      <td>0.009</td>\n",
       "      <td>32.366</td>\n",
       "      <td>1.431</td>\n",
       "      <td>0.925</td>\n",
       "      <td>0.013</td>\n",
       "    </tr>\n",
       "    <tr>\n",
       "      <th>favtGAN B</th>\n",
       "      <td>0.080</td>\n",
       "      <td>0.017</td>\n",
       "      <td>29.230</td>\n",
       "      <td>1.711</td>\n",
       "      <td>0.914</td>\n",
       "      <td>0.017</td>\n",
       "    </tr>\n",
       "    <tr>\n",
       "      <th>favtGAN C</th>\n",
       "      <td>0.069</td>\n",
       "      <td>0.009</td>\n",
       "      <td>31.835</td>\n",
       "      <td>1.299</td>\n",
       "      <td>0.925</td>\n",
       "      <td>0.012</td>\n",
       "    </tr>\n",
       "    <tr>\n",
       "      <th>favtGAN D</th>\n",
       "      <td>0.089</td>\n",
       "      <td>0.018</td>\n",
       "      <td>28.242</td>\n",
       "      <td>1.546</td>\n",
       "      <td>0.909</td>\n",
       "      <td>0.016</td>\n",
       "    </tr>\n",
       "  </tbody>\n",
       "</table>\n",
       "</div>"
      ],
      "text/plain": [
       "           Mean Bhatt.  Std Bhatt.  Mean PSNR  Std PSNR  Mean SSIM  Std SSIM\n",
       "pix2pix          0.066       0.008     32.133     1.322      0.924     0.012\n",
       "favtGAN A        0.065       0.009     32.366     1.431      0.925     0.013\n",
       "favtGAN B        0.080       0.017     29.230     1.711      0.914     0.017\n",
       "favtGAN C        0.069       0.009     31.835     1.299      0.925     0.012\n",
       "favtGAN D        0.089       0.018     28.242     1.546      0.909     0.016"
      ]
     },
     "execution_count": 275,
     "metadata": {},
     "output_type": "execute_result"
    }
   ],
   "source": [
    "EI_eur_stats = make_stats_tables(eur_EI_frameM, eur_EI_frame)\n",
    "EI_eur_stats"
   ]
  },
  {
   "cell_type": "code",
   "execution_count": 276,
   "metadata": {},
   "outputs": [],
   "source": [
    "# send to CSV\n",
    "EI_eur_stats.to_csv('EI_eur_stats.csv')"
   ]
  },
  {
   "cell_type": "code",
   "execution_count": 277,
   "metadata": {},
   "outputs": [
    {
     "data": {
      "text/html": [
       "<div>\n",
       "<style scoped>\n",
       "    .dataframe tbody tr th:only-of-type {\n",
       "        vertical-align: middle;\n",
       "    }\n",
       "\n",
       "    .dataframe tbody tr th {\n",
       "        vertical-align: top;\n",
       "    }\n",
       "\n",
       "    .dataframe thead th {\n",
       "        text-align: right;\n",
       "    }\n",
       "</style>\n",
       "<table border=\"1\" class=\"dataframe\">\n",
       "  <thead>\n",
       "    <tr style=\"text-align: right;\">\n",
       "      <th></th>\n",
       "      <th>Mean Bhatt.</th>\n",
       "      <th>Std Bhatt.</th>\n",
       "      <th>Mean PSNR</th>\n",
       "      <th>Std PSNR</th>\n",
       "      <th>Mean SSIM</th>\n",
       "      <th>Std SSIM</th>\n",
       "    </tr>\n",
       "  </thead>\n",
       "  <tbody>\n",
       "    <tr>\n",
       "      <th>pix2pix</th>\n",
       "      <td>0.063</td>\n",
       "      <td>0.010</td>\n",
       "      <td>31.463</td>\n",
       "      <td>1.385</td>\n",
       "      <td>0.919</td>\n",
       "      <td>0.014</td>\n",
       "    </tr>\n",
       "    <tr>\n",
       "      <th>favtGAN A</th>\n",
       "      <td>0.060</td>\n",
       "      <td>0.011</td>\n",
       "      <td>31.374</td>\n",
       "      <td>1.396</td>\n",
       "      <td>0.919</td>\n",
       "      <td>0.013</td>\n",
       "    </tr>\n",
       "    <tr>\n",
       "      <th>favtGAN B</th>\n",
       "      <td>0.112</td>\n",
       "      <td>0.028</td>\n",
       "      <td>27.925</td>\n",
       "      <td>1.607</td>\n",
       "      <td>0.899</td>\n",
       "      <td>0.019</td>\n",
       "    </tr>\n",
       "    <tr>\n",
       "      <th>favtGAN C</th>\n",
       "      <td>0.061</td>\n",
       "      <td>0.007</td>\n",
       "      <td>31.559</td>\n",
       "      <td>1.426</td>\n",
       "      <td>0.920</td>\n",
       "      <td>0.013</td>\n",
       "    </tr>\n",
       "    <tr>\n",
       "      <th>favtGAN D</th>\n",
       "      <td>0.094</td>\n",
       "      <td>0.025</td>\n",
       "      <td>29.050</td>\n",
       "      <td>1.510</td>\n",
       "      <td>0.905</td>\n",
       "      <td>0.017</td>\n",
       "    </tr>\n",
       "  </tbody>\n",
       "</table>\n",
       "</div>"
      ],
      "text/plain": [
       "           Mean Bhatt.  Std Bhatt.  Mean PSNR  Std PSNR  Mean SSIM  Std SSIM\n",
       "pix2pix          0.063       0.010     31.463     1.385      0.919     0.014\n",
       "favtGAN A        0.060       0.011     31.374     1.396      0.919     0.013\n",
       "favtGAN B        0.112       0.028     27.925     1.607      0.899     0.019\n",
       "favtGAN C        0.061       0.007     31.559     1.426      0.920     0.013\n",
       "favtGAN D        0.094       0.025     29.050     1.510      0.905     0.017"
      ]
     },
     "execution_count": 277,
     "metadata": {},
     "output_type": "execute_result"
    }
   ],
   "source": [
    "EAI_eur_stats =  make_stats_tables(eur_EAI_frameM, eur_EAI_frame)\n",
    "EAI_eur_stats"
   ]
  },
  {
   "cell_type": "code",
   "execution_count": 278,
   "metadata": {},
   "outputs": [],
   "source": [
    "EAI_eur_stats.to_csv('EAI_eur_stats.csv')"
   ]
  },
  {
   "cell_type": "code",
   "execution_count": 279,
   "metadata": {},
   "outputs": [
    {
     "data": {
      "text/html": [
       "<div>\n",
       "<style scoped>\n",
       "    .dataframe tbody tr th:only-of-type {\n",
       "        vertical-align: middle;\n",
       "    }\n",
       "\n",
       "    .dataframe tbody tr th {\n",
       "        vertical-align: top;\n",
       "    }\n",
       "\n",
       "    .dataframe thead th {\n",
       "        text-align: right;\n",
       "    }\n",
       "</style>\n",
       "<table border=\"1\" class=\"dataframe\">\n",
       "  <thead>\n",
       "    <tr style=\"text-align: right;\">\n",
       "      <th></th>\n",
       "      <th>Mean Bhatt.</th>\n",
       "      <th>Std Bhatt.</th>\n",
       "      <th>Mean PSNR</th>\n",
       "      <th>Std PSNR</th>\n",
       "      <th>Mean SSIM</th>\n",
       "      <th>Std SSIM</th>\n",
       "    </tr>\n",
       "  </thead>\n",
       "  <tbody>\n",
       "    <tr>\n",
       "      <th>pix2pix</th>\n",
       "      <td>0.187</td>\n",
       "      <td>0.013</td>\n",
       "      <td>23.946</td>\n",
       "      <td>0.894</td>\n",
       "      <td>0.681</td>\n",
       "      <td>0.021</td>\n",
       "    </tr>\n",
       "    <tr>\n",
       "      <th>favtGAN A</th>\n",
       "      <td>0.204</td>\n",
       "      <td>0.022</td>\n",
       "      <td>24.060</td>\n",
       "      <td>0.831</td>\n",
       "      <td>0.682</td>\n",
       "      <td>0.022</td>\n",
       "    </tr>\n",
       "    <tr>\n",
       "      <th>favtGAN B</th>\n",
       "      <td>0.197</td>\n",
       "      <td>0.017</td>\n",
       "      <td>22.000</td>\n",
       "      <td>1.128</td>\n",
       "      <td>0.653</td>\n",
       "      <td>0.026</td>\n",
       "    </tr>\n",
       "    <tr>\n",
       "      <th>favtGAN C</th>\n",
       "      <td>0.193</td>\n",
       "      <td>0.017</td>\n",
       "      <td>23.990</td>\n",
       "      <td>0.811</td>\n",
       "      <td>0.682</td>\n",
       "      <td>0.022</td>\n",
       "    </tr>\n",
       "    <tr>\n",
       "      <th>favtGAN D</th>\n",
       "      <td>0.196</td>\n",
       "      <td>0.015</td>\n",
       "      <td>22.083</td>\n",
       "      <td>1.159</td>\n",
       "      <td>0.652</td>\n",
       "      <td>0.026</td>\n",
       "    </tr>\n",
       "  </tbody>\n",
       "</table>\n",
       "</div>"
      ],
      "text/plain": [
       "           Mean Bhatt.  Std Bhatt.  Mean PSNR  Std PSNR  Mean SSIM  Std SSIM\n",
       "pix2pix          0.187       0.013     23.946     0.894      0.681     0.021\n",
       "favtGAN A        0.204       0.022     24.060     0.831      0.682     0.022\n",
       "favtGAN B        0.197       0.017     22.000     1.128      0.653     0.026\n",
       "favtGAN C        0.193       0.017     23.990     0.811      0.682     0.022\n",
       "favtGAN D        0.196       0.015     22.083     1.159      0.652     0.026"
      ]
     },
     "execution_count": 279,
     "metadata": {},
     "output_type": "execute_result"
    }
   ],
   "source": [
    "EI_iris_stats = make_stats_tables(iris_EI_frameM, iris_EI_frame)\n",
    "EI_iris_stats"
   ]
  },
  {
   "cell_type": "code",
   "execution_count": 280,
   "metadata": {},
   "outputs": [],
   "source": [
    "EI_iris_stats.to_csv('EI_iris_stats.csv')"
   ]
  },
  {
   "cell_type": "code",
   "execution_count": 281,
   "metadata": {},
   "outputs": [
    {
     "data": {
      "text/html": [
       "<div>\n",
       "<style scoped>\n",
       "    .dataframe tbody tr th:only-of-type {\n",
       "        vertical-align: middle;\n",
       "    }\n",
       "\n",
       "    .dataframe tbody tr th {\n",
       "        vertical-align: top;\n",
       "    }\n",
       "\n",
       "    .dataframe thead th {\n",
       "        text-align: right;\n",
       "    }\n",
       "</style>\n",
       "<table border=\"1\" class=\"dataframe\">\n",
       "  <thead>\n",
       "    <tr style=\"text-align: right;\">\n",
       "      <th></th>\n",
       "      <th>Mean Bhatt.</th>\n",
       "      <th>Std Bhatt.</th>\n",
       "      <th>Mean PSNR</th>\n",
       "      <th>Std PSNR</th>\n",
       "      <th>Mean SSIM</th>\n",
       "      <th>Std SSIM</th>\n",
       "    </tr>\n",
       "  </thead>\n",
       "  <tbody>\n",
       "    <tr>\n",
       "      <th>pix2pix</th>\n",
       "      <td>0.193</td>\n",
       "      <td>0.010</td>\n",
       "      <td>22.989</td>\n",
       "      <td>0.960</td>\n",
       "      <td>0.663</td>\n",
       "      <td>0.023</td>\n",
       "    </tr>\n",
       "    <tr>\n",
       "      <th>favtGAN A</th>\n",
       "      <td>0.198</td>\n",
       "      <td>0.014</td>\n",
       "      <td>22.966</td>\n",
       "      <td>0.909</td>\n",
       "      <td>0.662</td>\n",
       "      <td>0.023</td>\n",
       "    </tr>\n",
       "    <tr>\n",
       "      <th>favtGAN B</th>\n",
       "      <td>0.197</td>\n",
       "      <td>0.009</td>\n",
       "      <td>21.915</td>\n",
       "      <td>1.085</td>\n",
       "      <td>0.646</td>\n",
       "      <td>0.025</td>\n",
       "    </tr>\n",
       "    <tr>\n",
       "      <th>favtGAN C</th>\n",
       "      <td>0.188</td>\n",
       "      <td>0.010</td>\n",
       "      <td>22.957</td>\n",
       "      <td>0.978</td>\n",
       "      <td>0.662</td>\n",
       "      <td>0.023</td>\n",
       "    </tr>\n",
       "    <tr>\n",
       "      <th>favtGAN D</th>\n",
       "      <td>0.200</td>\n",
       "      <td>0.014</td>\n",
       "      <td>21.681</td>\n",
       "      <td>1.082</td>\n",
       "      <td>0.643</td>\n",
       "      <td>0.025</td>\n",
       "    </tr>\n",
       "  </tbody>\n",
       "</table>\n",
       "</div>"
      ],
      "text/plain": [
       "           Mean Bhatt.  Std Bhatt.  Mean PSNR  Std PSNR  Mean SSIM  Std SSIM\n",
       "pix2pix          0.193       0.010     22.989     0.960      0.663     0.023\n",
       "favtGAN A        0.198       0.014     22.966     0.909      0.662     0.023\n",
       "favtGAN B        0.197       0.009     21.915     1.085      0.646     0.025\n",
       "favtGAN C        0.188       0.010     22.957     0.978      0.662     0.023\n",
       "favtGAN D        0.200       0.014     21.681     1.082      0.643     0.025"
      ]
     },
     "execution_count": 281,
     "metadata": {},
     "output_type": "execute_result"
    }
   ],
   "source": [
    "EAI_iris_stats =  make_stats_tables(iris_EAI_frameM, iris_EAI_frame)\n",
    "EAI_iris_stats"
   ]
  },
  {
   "cell_type": "code",
   "execution_count": 282,
   "metadata": {},
   "outputs": [],
   "source": [
    "EAI_iris_stats.to_csv('EAI_iris_stats.csv')"
   ]
  },
  {
   "cell_type": "code",
   "execution_count": null,
   "metadata": {},
   "outputs": [],
   "source": []
  },
  {
   "cell_type": "code",
   "execution_count": null,
   "metadata": {},
   "outputs": [],
   "source": []
  }
 ],
 "metadata": {
  "kernelspec": {
   "display_name": "Python 3",
   "language": "python",
   "name": "python3"
  },
  "language_info": {
   "codemirror_mode": {
    "name": "ipython",
    "version": 3
   },
   "file_extension": ".py",
   "mimetype": "text/x-python",
   "name": "python",
   "nbconvert_exporter": "python",
   "pygments_lexer": "ipython3",
   "version": "3.7.7"
  }
 },
 "nbformat": 4,
 "nbformat_minor": 4
}
