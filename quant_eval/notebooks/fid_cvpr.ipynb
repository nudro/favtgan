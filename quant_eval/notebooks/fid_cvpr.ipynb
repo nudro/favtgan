{
 "cells": [
  {
   "cell_type": "code",
   "execution_count": 1,
   "metadata": {},
   "outputs": [],
   "source": [
    "from __future__ import print_function\n",
    "from __future__ import division\n",
    "import numpy as np\n",
    "import torch\n",
    "import numpy\n",
    "from numpy import cov\n",
    "from numpy import trace\n",
    "from numpy import iscomplexobj\n",
    "from numpy import asarray\n",
    "from numpy.random import randint\n",
    "from scipy.linalg import sqrtm\n",
    "from skimage.transform import resize\n",
    "import torch\n",
    "import torch.nn as nn\n",
    "import torch.optim as optim\n",
    "import torchvision\n",
    "from torchvision import datasets, models, transforms\n",
    "import matplotlib.pyplot as plt\n",
    "import time\n",
    "import os\n",
    "import copy"
   ]
  },
  {
   "cell_type": "code",
   "execution_count": 2,
   "metadata": {},
   "outputs": [],
   "source": [
    "os.chdir('/Users/xxx/Documents/GANs_Research/my_imps/research_models/v3/evaluation')"
   ]
  },
  {
   "cell_type": "markdown",
   "metadata": {},
   "source": [
    "<h1>cvpr Models</h1>\n",
    "FID scores for test results generated from four different favtGAN architectures, where all images were rescaled, aligned, and properly formatted."
   ]
  },
  {
   "cell_type": "markdown",
   "metadata": {},
   "source": [
    "<h2>Eurecom</h2>\n",
    "\n",
    "- EA_sensor_OG\n",
    "- EA_sensor_V3\n",
    "- EA_sensor_V4\n",
    "- EA_sensor_V5\n",
    "\n",
    "\n",
    "\n",
    "- EAI_sensor_OG\n",
    "- EAI_sensor_V3\n",
    "- EAI_sensor_V4\n",
    "- EAI_sensor_V5"
   ]
  },
  {
   "cell_type": "code",
   "execution_count": 1,
   "metadata": {},
   "outputs": [
    {
     "name": "stdout",
     "output_type": "stream",
     "text": [
      "100%|█████████████████████████████████████████████| 3/3 [00:21<00:00,  7.13s/it]\n",
      "100%|█████████████████████████████████████████████| 3/3 [00:21<00:00,  7.11s/it]\n",
      "FID:  97.93612845036392\n"
     ]
    }
   ],
   "source": [
    "#EA_sensor_08\n",
    "! python -m pytorch_fid Eurecom/EA_sensor_08/real_B Eurecom/EA_sensor_08/fake_B"
   ]
  },
  {
   "cell_type": "code",
   "execution_count": 2,
   "metadata": {},
   "outputs": [
    {
     "name": "stdout",
     "output_type": "stream",
     "text": [
      "100%|█████████████████████████████████████████████| 3/3 [00:21<00:00,  7.15s/it]\n",
      "100%|█████████████████████████████████████████████| 3/3 [00:21<00:00,  7.14s/it]\n",
      "FID:  82.9997425308549\n"
     ]
    }
   ],
   "source": [
    "#EA_sensor_V4\n",
    "! python -m pytorch_fid Eurecom/EA_sensor_V4/real_B Eurecom/EA_sensor_V4/fake_B"
   ]
  },
  {
   "cell_type": "code",
   "execution_count": 3,
   "metadata": {},
   "outputs": [
    {
     "name": "stdout",
     "output_type": "stream",
     "text": [
      "100%|█████████████████████████████████████████████| 3/3 [00:23<00:00,  7.80s/it]\n",
      "100%|█████████████████████████████████████████████| 3/3 [00:24<00:00,  8.24s/it]\n",
      "FID:  107.3262845224532\n"
     ]
    }
   ],
   "source": [
    "#EAI_sensor_V4\n",
    "! python -m pytorch_fid Eurecom/EAI_sensor_V4/real_B Eurecom/EAI_sensor_V4/fake_B"
   ]
  },
  {
   "cell_type": "code",
   "execution_count": 4,
   "metadata": {},
   "outputs": [
    {
     "name": "stdout",
     "output_type": "stream",
     "text": [
      "100%|█████████████████████████████████████████████| 3/3 [00:24<00:00,  8.20s/it]\n",
      "100%|█████████████████████████████████████████████| 3/3 [00:23<00:00,  7.78s/it]\n",
      "FID:  113.37961951927653\n"
     ]
    }
   ],
   "source": [
    "#EAI_sensor_OG\n",
    "! python -m pytorch_fid Eurecom/EAI_sensor_OG/real_B Eurecom/EAI_sensor_OG/fake_B"
   ]
  },
  {
   "cell_type": "code",
   "execution_count": 7,
   "metadata": {},
   "outputs": [
    {
     "name": "stdout",
     "output_type": "stream",
     "text": [
      "100%|█████████████████████████████████████████████| 3/3 [00:21<00:00,  7.09s/it]\n",
      "100%|█████████████████████████████████████████████| 3/3 [00:21<00:00,  7.07s/it]\n",
      "FID:  123.10272739507329\n"
     ]
    }
   ],
   "source": [
    "#EAI_sensor_V3\n",
    "! python -m pytorch_fid Eurecom/EAI_sensor_V3/real_B Eurecom/EAI_sensor_V3/fake_B"
   ]
  },
  {
   "cell_type": "code",
   "execution_count": 9,
   "metadata": {},
   "outputs": [
    {
     "name": "stdout",
     "output_type": "stream",
     "text": [
      "100%|█████████████████████████████████████████████| 3/3 [00:22<00:00,  7.49s/it]\n",
      "100%|█████████████████████████████████████████████| 3/3 [00:22<00:00,  7.42s/it]\n",
      "FID:  51.477989022750194\n"
     ]
    }
   ],
   "source": [
    "# Eurecom pix2pix\n",
    "! python -m pytorch_fid Eurecom/eurecom_pix2pix/real_B Eurecom/eurecom_pix2pix/fake_B"
   ]
  },
  {
   "cell_type": "code",
   "execution_count": 3,
   "metadata": {},
   "outputs": [
    {
     "name": "stdout",
     "output_type": "stream",
     "text": [
      "100%|█████████████████████████████████████████████| 3/3 [00:22<00:00,  7.41s/it]\n",
      "100%|█████████████████████████████████████████████| 3/3 [00:22<00:00,  7.36s/it]\n",
      "FID:  92.31738856272764\n"
     ]
    }
   ],
   "source": [
    "#EA_sensor_OG\n",
    "! python -m pytorch_fid Eurecom/EA_sensor_OG/real_B Eurecom/EA_sensor_OG/fake_B"
   ]
  },
  {
   "cell_type": "code",
   "execution_count": 6,
   "metadata": {},
   "outputs": [
    {
     "name": "stdout",
     "output_type": "stream",
     "text": [
      "100%|█████████████████████████████████████████████| 3/3 [00:21<00:00,  7.26s/it]\n",
      "100%|█████████████████████████████████████████████| 3/3 [00:21<00:00,  7.27s/it]\n",
      "FID:  95.16656777249025\n"
     ]
    }
   ],
   "source": [
    "#EI_sensor_OG\n",
    "! python -m pytorch_fid Eurecom/EI_sensor_OG/real_B Eurecom/EI_sensor_OG/fake_B"
   ]
  },
  {
   "cell_type": "code",
   "execution_count": 7,
   "metadata": {},
   "outputs": [
    {
     "name": "stdout",
     "output_type": "stream",
     "text": [
      "100%|█████████████████████████████████████████████| 3/3 [00:22<00:00,  7.36s/it]\n",
      "100%|█████████████████████████████████████████████| 3/3 [00:21<00:00,  7.25s/it]\n",
      "FID:  106.8271468783885\n"
     ]
    }
   ],
   "source": [
    "#EI_sensor_V3\n",
    "! python -m pytorch_fid Eurecom/EI_sensor_V3/real_B Eurecom/EI_sensor_V3/fake_B"
   ]
  },
  {
   "cell_type": "code",
   "execution_count": 8,
   "metadata": {},
   "outputs": [
    {
     "name": "stdout",
     "output_type": "stream",
     "text": [
      "100%|█████████████████████████████████████████████| 3/3 [00:21<00:00,  7.28s/it]\n",
      "100%|█████████████████████████████████████████████| 3/3 [00:21<00:00,  7.33s/it]\n",
      "FID:  81.17098836061558\n"
     ]
    }
   ],
   "source": [
    "#EI_sensor_V4\n",
    "! python -m pytorch_fid Eurecom/EI_sensor_V4/real_B Eurecom/EI_sensor_V4/fake_B"
   ]
  },
  {
   "cell_type": "code",
   "execution_count": 9,
   "metadata": {},
   "outputs": [
    {
     "name": "stdout",
     "output_type": "stream",
     "text": [
      "100%|█████████████████████████████████████████████| 3/3 [00:21<00:00,  7.29s/it]\n",
      "100%|█████████████████████████████████████████████| 3/3 [00:21<00:00,  7.33s/it]\n",
      "FID:  89.94405393371119\n"
     ]
    }
   ],
   "source": [
    "#EA\n",
    "! python -m pytorch_fid Eurecom/EA_pix2pix/real_B Eurecom/EA_pix2pix/fake_B"
   ]
  },
  {
   "cell_type": "code",
   "execution_count": 10,
   "metadata": {},
   "outputs": [
    {
     "name": "stdout",
     "output_type": "stream",
     "text": [
      "100%|█████████████████████████████████████████████| 3/3 [00:21<00:00,  7.33s/it]\n",
      "100%|█████████████████████████████████████████████| 3/3 [00:21<00:00,  7.23s/it]\n",
      "FID:  115.51519590507381\n"
     ]
    }
   ],
   "source": [
    "#EAI\n",
    "! python -m pytorch_fid Eurecom/EAI_pix2pix/real_B Eurecom/EAI_pix2pix/fake_B"
   ]
  },
  {
   "cell_type": "code",
   "execution_count": 3,
   "metadata": {},
   "outputs": [
    {
     "name": "stdout",
     "output_type": "stream",
     "text": [
      "100%|█████████████████████████████████████████████| 3/3 [00:22<00:00,  7.39s/it]\n",
      "100%|█████████████████████████████████████████████| 3/3 [00:21<00:00,  7.23s/it]\n",
      "FID:  97.81704795397803\n"
     ]
    }
   ],
   "source": [
    "#EI pix2pix\n",
    "\n",
    "! python -m pytorch_fid Eurecom/EI_pix2pix/real_B Eurecom/EI_pix2pix/fake_B"
   ]
  },
  {
   "cell_type": "code",
   "execution_count": 7,
   "metadata": {},
   "outputs": [
    {
     "name": "stdout",
     "output_type": "stream",
     "text": [
      "100%|█████████████████████████████████████████████| 3/3 [00:21<00:00,  7.08s/it]\n",
      "100%|█████████████████████████████████████████████| 3/3 [00:21<00:00,  7.01s/it]\n",
      "FID:  94.01084316890552\n"
     ]
    }
   ],
   "source": [
    "#EI_sensor_V5\n",
    "! python -m pytorch_fid Eurecom/EI_sensor_V5/real_B Eurecom/EI_sensor_V5/fake_B"
   ]
  },
  {
   "cell_type": "code",
   "execution_count": 3,
   "metadata": {},
   "outputs": [
    {
     "name": "stdout",
     "output_type": "stream",
     "text": [
      "100%|█████████████████████████████████████████████| 3/3 [00:22<00:00,  7.66s/it]\n",
      "100%|█████████████████████████████████████████████| 3/3 [00:22<00:00,  7.62s/it]\n",
      "FID:  109.64117858548452\n"
     ]
    }
   ],
   "source": [
    "#EAI sensor V5\n",
    "! python -m pytorch_fid Eurecom/EAI_sensor_V5/real_B Eurecom/EAI_sensor_V5/fake_B"
   ]
  },
  {
   "cell_type": "code",
   "execution_count": 3,
   "metadata": {},
   "outputs": [
    {
     "name": "stdout",
     "output_type": "stream",
     "text": [
      "100%|█████████████████████████████████████████████| 3/3 [00:22<00:00,  7.52s/it]\n",
      "100%|█████████████████████████████████████████████| 3/3 [00:21<00:00,  7.33s/it]\n",
      "FID:  95.7096614725539\n"
     ]
    }
   ],
   "source": [
    "#Eio SENSOR V4\n",
    "! python -m pytorch_fid Eurecom/EIO_sensor_V4/real_B Eurecom/EIO_sensor_V4/fake_B"
   ]
  },
  {
   "cell_type": "markdown",
   "metadata": {},
   "source": [
    "<h2>Iris</h2>"
   ]
  },
  {
   "cell_type": "code",
   "execution_count": 5,
   "metadata": {},
   "outputs": [
    {
     "name": "stdout",
     "output_type": "stream",
     "text": [
      "100%|█████████████████████████████████████████████| 2/2 [00:21<00:00, 10.90s/it]\n",
      "100%|█████████████████████████████████████████████| 2/2 [00:22<00:00, 11.25s/it]\n",
      "FID:  292.781397710478\n"
     ]
    }
   ],
   "source": [
    "#EAI_sensor_V4\n",
    "! python -m pytorch_fid Iris/EAI_sensor_V4/real_B Iris/EAI_sensor_V4/fake_B"
   ]
  },
  {
   "cell_type": "code",
   "execution_count": 6,
   "metadata": {},
   "outputs": [
    {
     "name": "stdout",
     "output_type": "stream",
     "text": [
      "100%|█████████████████████████████████████████████| 2/2 [00:22<00:00, 11.20s/it]\n",
      "100%|█████████████████████████████████████████████| 2/2 [00:22<00:00, 11.16s/it]\n",
      "FID:  294.28299200868344\n"
     ]
    }
   ],
   "source": [
    "#EAI_sensor_OG\n",
    "! python -m pytorch_fid Iris/EAI_sensor_OG/real_B Iris/EAI_sensor_OG/fake_B"
   ]
  },
  {
   "cell_type": "code",
   "execution_count": 8,
   "metadata": {},
   "outputs": [
    {
     "name": "stdout",
     "output_type": "stream",
     "text": [
      "100%|█████████████████████████████████████████████| 2/2 [00:20<00:00, 10.31s/it]\n",
      "100%|█████████████████████████████████████████████| 2/2 [00:20<00:00, 10.29s/it]\n",
      "FID:  320.27602875309253\n"
     ]
    }
   ],
   "source": [
    "#EAI_sensor_V3\n",
    "! python -m pytorch_fid Iris/EAI_sensor_V3/real_B Iris/EAI_sensor_V3/fake_B"
   ]
  },
  {
   "cell_type": "code",
   "execution_count": 10,
   "metadata": {},
   "outputs": [
    {
     "name": "stdout",
     "output_type": "stream",
     "text": [
      "100%|█████████████████████████████████████████████| 2/2 [00:22<00:00, 11.49s/it]\n",
      "100%|█████████████████████████████████████████████| 2/2 [00:20<00:00, 10.40s/it]\n",
      "FID:  223.93605974131592\n"
     ]
    }
   ],
   "source": [
    "#Iris pix2pix\n",
    "! python -m pytorch_fid Iris/iris_pix2pix/real_B Iris/iris_pix2pix/fake_B"
   ]
  },
  {
   "cell_type": "code",
   "execution_count": 11,
   "metadata": {},
   "outputs": [
    {
     "name": "stdout",
     "output_type": "stream",
     "text": [
      "100%|█████████████████████████████████████████████| 2/2 [00:20<00:00, 10.38s/it]\n",
      "100%|█████████████████████████████████████████████| 2/2 [00:20<00:00, 10.16s/it]\n",
      "FID:  239.19802090258594\n"
     ]
    }
   ],
   "source": [
    "#EI_sensor_OG\n",
    "! python -m pytorch_fid Iris/EI_sensor_OG/real_B Iris/EI_sensor_OG/fake_B"
   ]
  },
  {
   "cell_type": "code",
   "execution_count": 12,
   "metadata": {},
   "outputs": [
    {
     "name": "stdout",
     "output_type": "stream",
     "text": [
      "100%|█████████████████████████████████████████████| 2/2 [00:20<00:00, 10.20s/it]\n",
      "100%|█████████████████████████████████████████████| 2/2 [00:20<00:00, 10.24s/it]\n",
      "FID:  288.72030727307583\n"
     ]
    }
   ],
   "source": [
    "#EI_sensor_V3\n",
    "! python -m pytorch_fid Iris/EI_sensor_V3/real_B Iris/EI_sensor_V3/fake_B"
   ]
  },
  {
   "cell_type": "code",
   "execution_count": 13,
   "metadata": {},
   "outputs": [
    {
     "name": "stdout",
     "output_type": "stream",
     "text": [
      "100%|█████████████████████████████████████████████| 2/2 [00:20<00:00, 10.20s/it]\n",
      "100%|█████████████████████████████████████████████| 2/2 [00:20<00:00, 10.15s/it]\n",
      "FID:  209.00391996933087\n"
     ]
    }
   ],
   "source": [
    "#EI_sensor_V4\n",
    "! python -m pytorch_fid Iris/EI_sensor_V4/real_B Iris/EI_sensor_V4/fake_B"
   ]
  },
  {
   "cell_type": "code",
   "execution_count": 14,
   "metadata": {},
   "outputs": [
    {
     "name": "stdout",
     "output_type": "stream",
     "text": [
      "100%|█████████████████████████████████████████████| 2/2 [00:20<00:00, 10.28s/it]\n",
      "100%|█████████████████████████████████████████████| 2/2 [00:20<00:00, 10.07s/it]\n",
      "FID:  289.85910941654214\n"
     ]
    }
   ],
   "source": [
    "#EAI\n",
    "! python -m pytorch_fid Iris/EAI_pix2pix/real_B Iris/EAI_pix2pix/fake_B"
   ]
  },
  {
   "cell_type": "code",
   "execution_count": 4,
   "metadata": {},
   "outputs": [
    {
     "name": "stdout",
     "output_type": "stream",
     "text": [
      "100%|█████████████████████████████████████████████| 2/2 [00:20<00:00, 10.21s/it]\n",
      "100%|█████████████████████████████████████████████| 2/2 [00:20<00:00, 10.11s/it]\n",
      "FID:  232.78058331302114\n"
     ]
    }
   ],
   "source": [
    "#EI pix2pix\n",
    "! python -m pytorch_fid Iris/EI_pix2pix/real_B Iris/EI_pix2pix/fake_B"
   ]
  },
  {
   "cell_type": "code",
   "execution_count": 8,
   "metadata": {},
   "outputs": [
    {
     "name": "stdout",
     "output_type": "stream",
     "text": [
      "100%|█████████████████████████████████████████████| 2/2 [00:19<00:00,  9.91s/it]\n",
      "100%|█████████████████████████████████████████████| 2/2 [00:19<00:00,  9.94s/it]\n",
      "FID:  295.97486935921165\n"
     ]
    }
   ],
   "source": [
    "#EI sensor V5\n",
    "! python -m pytorch_fid Iris/EI_sensor_V5/real_B Iris/EI_sensor_V5/fake_B"
   ]
  },
  {
   "cell_type": "code",
   "execution_count": 4,
   "metadata": {},
   "outputs": [
    {
     "name": "stdout",
     "output_type": "stream",
     "text": [
      "100%|█████████████████████████████████████████████| 2/2 [00:22<00:00, 11.05s/it]\n",
      "100%|█████████████████████████████████████████████| 2/2 [00:21<00:00, 10.78s/it]\n",
      "FID:  331.212507932028\n"
     ]
    }
   ],
   "source": [
    "#EAI sensor V5\n",
    "! python -m pytorch_fid Iris/EAI_sensor_V5/real_B Iris/EAI_sensor_V5/fake_B"
   ]
  },
  {
   "cell_type": "code",
   "execution_count": 3,
   "metadata": {},
   "outputs": [
    {
     "name": "stdout",
     "output_type": "stream",
     "text": [
      "100%|█████████████████████████████████████████████| 2/2 [00:21<00:00, 10.71s/it]\n",
      "100%|█████████████████████████████████████████████| 2/2 [00:20<00:00, 10.47s/it]\n",
      "FID:  221.13156684754878\n"
     ]
    }
   ],
   "source": [
    "#EIO SENSOR V4\n",
    "! python -m pytorch_fid Iris/EIO_sensor_V4/real_B Iris/EIO_sensor_V4/fake_B"
   ]
  },
  {
   "cell_type": "code",
   "execution_count": 4,
   "metadata": {},
   "outputs": [
    {
     "name": "stdout",
     "output_type": "stream",
     "text": [
      "100%|█████████████████████████████████████████████| 2/2 [00:21<00:00, 10.85s/it]\n",
      "100%|█████████████████████████████████████████████| 2/2 [00:21<00:00, 10.61s/it]\n",
      "FID:  223.80250864887427\n"
     ]
    }
   ],
   "source": [
    "#IO sensor V4\n",
    "! python -m pytorch_fid Iris/IO_sensor_V4/real_B Iris/IO_sensor_V4/fake_B"
   ]
  },
  {
   "cell_type": "code",
   "execution_count": null,
   "metadata": {},
   "outputs": [],
   "source": []
  }
 ],
 "metadata": {
  "kernelspec": {
   "display_name": "Python 3",
   "language": "python",
   "name": "python3"
  },
  "language_info": {
   "codemirror_mode": {
    "name": "ipython",
    "version": 3
   },
   "file_extension": ".py",
   "mimetype": "text/x-python",
   "name": "python",
   "nbconvert_exporter": "python",
   "pygments_lexer": "ipython3",
   "version": "3.7.7"
  }
 },
 "nbformat": 4,
 "nbformat_minor": 4
}
