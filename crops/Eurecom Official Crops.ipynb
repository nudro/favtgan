{
 "cells": [
  {
   "cell_type": "markdown",
   "metadata": {},
   "source": [
    "<h1>Eurecom - Procedure to Crop ROIs for each GAN Experiment and Evaluate Image Quality</h1>\n",
    "\n",
    "<h3>Prerequisites:</h3>\n",
    "\n",
    "Before you start, you must pre-create the directory structure under `Crops/Eurecom/` as: \n",
    "\n",
    "- Experiment Directory like `Crops/Eurecom/EA_sensor_V4`\n",
    "\n",
    "And, also create `crops_fake_B`:\n",
    "\n",
    "- `Crops/Eurecom/EA_sensor_V4/crops_fake_B` \n",
    "\n",
    "With the following sub-directories: \n",
    "\n",
    "- `Crops/Eurecom/EA_sensor_V4/crops_fake_B/crop_eyes` \n",
    "- `Crops/Eurecom/EA_sensor_V4/crops_fake_B/crop_mouth` \n",
    "- `Crops/Eurecom/EA_sensor_V4/crops_fake_B/crop_nose` \n",
    "\n",
    "These are the directories that the cropped images will be stored in. \n"
   ]
  },
  {
   "cell_type": "code",
   "execution_count": 21,
   "metadata": {},
   "outputs": [],
   "source": [
    "from skimage.metrics import structural_similarity\n",
    "import argparse\n",
    "import imutils\n",
    "import pandas as pd\n",
    "import cv2\n",
    "import os\n",
    "import numpy as np\n",
    "from matplotlib import pyplot as plt\n",
    "import matplotlib.image as mpimg\n",
    "from PIL import Image               # to load images\n",
    "from IPython.display import display # to display images\n",
    "%matplotlib inline"
   ]
  },
  {
   "cell_type": "code",
   "execution_count": 22,
   "metadata": {},
   "outputs": [],
   "source": [
    "def crop_eyes(image, experiment):\n",
    "    # image is file path\n",
    "    im = Image.open(image) \n",
    "    \n",
    "    # Setting the points for cropped image \n",
    "    left = (256/4) #25% to the left in\n",
    "    top = 256 / 3\n",
    "    right = 256 - (256/4) #25% to the right in\n",
    "    bottom = 256  - 125\n",
    "\n",
    "    im1 = im.crop((left, top, right, bottom)) \n",
    "    f, e = os.path.splitext(image)\n",
    "    name = os.path.basename(f) # I need the filename to match it up right\n",
    "    im1.save('Eurecom/{}/crops_fake_B/crop_eyes/{}.png'.format(experiment, name))\n"
   ]
  },
  {
   "cell_type": "code",
   "execution_count": 23,
   "metadata": {},
   "outputs": [],
   "source": [
    "def crop_mouth(image, experiment):\n",
    "    # image is file path\n",
    "    im = Image.open(image) \n",
    "    \n",
    "    # Setting the points for cropped image \n",
    "    left = (256/4) #25% to the left in\n",
    "    top = 256 - 100\n",
    "    right = 256 - (256/4) #25% to the right in\n",
    "    bottom = 256 - 50\n",
    "\n",
    "    im1 = im.crop((left, top, right, bottom)) \n",
    "    f, e = os.path.splitext(image)\n",
    "    name = os.path.basename(f) # I need the filename to match it up right\n",
    "    im1.save('Eurecom/{}/crops_fake_B/crop_mouth/{}.png'.format(experiment, name))\n"
   ]
  },
  {
   "cell_type": "code",
   "execution_count": 24,
   "metadata": {},
   "outputs": [],
   "source": [
    "def crop_nose(image, experiment):\n",
    "\n",
    "    # image is file path\n",
    "    im = Image.open(image) \n",
    "    \n",
    "    # Setting the points for cropped image \n",
    "    left = (256/4) #25% to the left in\n",
    "    top = 256 / 2\n",
    "    right = 256 - (256/4) #25% to the right in\n",
    "    bottom = 256 - 100\n",
    "\n",
    "    im1 = im.crop((left, top, right, bottom)) \n",
    "    f, e = os.path.splitext(image)\n",
    "    name = os.path.basename(f) # I need the filename to match it up right\n",
    "    # Shows the image in image viewer \n",
    "    im1.save('Eurecom/{}/crops_fake_B/crop_nose/{}.png'.format(experiment, name))\n"
   ]
  },
  {
   "cell_type": "code",
   "execution_count": 25,
   "metadata": {},
   "outputs": [],
   "source": [
    "def make_crops(infile, experiment):\n",
    "    \"\"\"\n",
    "    args: \n",
    "        infile (str) is the full filepath of the fake thermal images for this experiment\n",
    "        Use: '/Eurecom/EA_sensor_V4/fake_B'\n",
    "        experiment (str) is the experiment name which should match under the Crops/Eurecom directory, as well\n",
    "    \"\"\"\n",
    "    dirs = os.listdir(infile)\n",
    "    print(dirs) #prints all file names\n",
    "    for item in dirs:\n",
    "        fullpath = os.path.join(infile, item)\n",
    "        crop_eyes(fullpath, experiment) #calls crop eyes to crop them and put the cropped image in the experiment\n",
    "        crop_mouth(fullpath, experiment)\n",
    "        crop_nose(fullpath, experiment)"
   ]
  },
  {
   "cell_type": "markdown",
   "metadata": {},
   "source": [
    "<h3>change the below in `my_crops()` to the experiment</h3>"
   ]
  },
  {
   "cell_type": "code",
   "execution_count": 26,
   "metadata": {},
   "outputs": [],
   "source": [
    "os.chdir('/Crops') # must remember to change directories"
   ]
  },
  {
   "cell_type": "code",
   "execution_count": 27,
   "metadata": {},
   "outputs": [
    {
     "name": "stdout",
     "output_type": "stream",
     "text": [
      "['42_fake_B.png', '75_fake_B.png', '20_fake_B.png', '17_fake_B.png', '96_fake_B.png', '4_fake_B.png', '69_fake_B.png', '102_fake_B.png', '78_fake_B.png', '87_fake_B.png', '31_fake_B.png', '64_fake_B.png', '53_fake_B.png', '9_fake_B.png', '82_fake_B.png', '28_fake_B.png', '34_fake_B.png', '56_fake_B.png', '61_fake_B.png', '70_fake_B.png', '47_fake_B.png', '12_fake_B.png', '25_fake_B.png', '39_fake_B.png', '1_fake_B.png', '93_fake_B.png', '94_fake_B.png', '6_fake_B.png', '100_fake_B.png', '88_fake_B.png', '77_fake_B.png', '40_fake_B.png', '15_fake_B.png', '22_fake_B.png', '33_fake_B.png', '51_fake_B.png', '66_fake_B.png', '99_fake_B.png', '18_fake_B.png', '85_fake_B.png', '36_fake_B.png', '63_fake_B.png', '54_fake_B.png', '80_fake_B.png', '48_fake_B.png', '59_fake_B.png', '3_fake_B.png', '91_fake_B.png', '45_fake_B.png', '72_fake_B.png', '27_fake_B.png', '10_fake_B.png', '29_fake_B.png', '83_fake_B.png', '35_fake_B.png', '57_fake_B.png', '60_fake_B.png', '71_fake_B.png', '46_fake_B.png', '13_fake_B.png', '24_fake_B.png', '0_fake_B.png', '92_fake_B.png', '38_fake_B.png', '43_fake_B.png', '74_fake_B.png', '21_fake_B.png', '16_fake_B.png', '68_fake_B.png', '103_fake_B.png', '97_fake_B.png', '5_fake_B.png', '86_fake_B.png', '79_fake_B.png', '8_fake_B.png', '30_fake_B.png', '65_fake_B.png', '52_fake_B.png', '37_fake_B.png', '62_fake_B.png', '55_fake_B.png', '49_fake_B.png', '81_fake_B.png', '2_fake_B.png', '90_fake_B.png', '58_fake_B.png', '104_fake_B.png', '44_fake_B.png', '73_fake_B.png', '26_fake_B.png', '11_fake_B.png', '101_fake_B.png', '95_fake_B.png', '7_fake_B.png', '76_fake_B.png', '41_fake_B.png', '14_fake_B.png', '23_fake_B.png', '89_fake_B.png', '98_fake_B.png', '32_fake_B.png', '50_fake_B.png', '67_fake_B.png', '84_fake_B.png', '19_fake_B.png']\n"
     ]
    }
   ],
   "source": [
    "# This is the directory where all the generated images are stored, outputted by the GAN\n",
    "my_path = '/Eurecom/EIO_sensor_V4/fake_B'\n",
    "\n",
    "make_crops(my_path, \"EIO_sensor_V4\")"
   ]
  },
  {
   "cell_type": "markdown",
   "metadata": {},
   "source": [
    "<h2>Evaluation Metrics</h2>"
   ]
  },
  {
   "cell_type": "code",
   "execution_count": 28,
   "metadata": {},
   "outputs": [],
   "source": [
    "os.chdir('/Crops/Eurecom')"
   ]
  },
  {
   "cell_type": "markdown",
   "metadata": {},
   "source": [
    "<h3>CHANGE TO EXPERIMENT</h3>"
   ]
  },
  {
   "cell_type": "code",
   "execution_count": 29,
   "metadata": {},
   "outputs": [
    {
     "name": "stdout",
     "output_type": "stream",
     "text": [
      "Namespace(experiment='EIO_sensor_V4', fake_dir='EIO_sensor_V4/crops_fake_B/crop_eyes', real_dir='crops_real_B/crop_eyes', roi='eyes')\n",
      "Creating dataframes...\n",
      "done\n",
      "Namespace(experiment='EIO_sensor_V4', fake_dir='EIO_sensor_V4/crops_fake_B/crop_eyes', real_dir='crops_real_B/crop_eyes', roi='eyes')\n",
      "Done with PSNR\n",
      "Done with SSIM\n"
     ]
    }
   ],
   "source": [
    "!bash eyes_eval.sh -f \"EIO_sensor_V4\""
   ]
  },
  {
   "cell_type": "code",
   "execution_count": 30,
   "metadata": {},
   "outputs": [
    {
     "name": "stdout",
     "output_type": "stream",
     "text": [
      "Namespace(experiment='EIO_sensor_V4', fake_dir='EIO_sensor_V4/crops_fake_B/crop_mouth', real_dir='crops_real_B/crop_mouth', roi='mouth')\n",
      "Creating dataframes...\n",
      "done\n",
      "Namespace(experiment='EIO_sensor_V4', fake_dir='EIO_sensor_V4/crops_fake_B/crop_mouth', real_dir='crops_real_B/crop_mouth', roi='mouth')\n",
      "Done with PSNR\n",
      "Done with SSIM\n"
     ]
    }
   ],
   "source": [
    "!bash mouth_eval.sh -f \"EIO_sensor_V4\""
   ]
  },
  {
   "cell_type": "code",
   "execution_count": 31,
   "metadata": {},
   "outputs": [
    {
     "name": "stdout",
     "output_type": "stream",
     "text": [
      "Namespace(experiment='EIO_sensor_V4', fake_dir='EIO_sensor_V4/crops_fake_B/crop_nose', real_dir='crops_real_B/crop_nose', roi='nose')\n",
      "Creating dataframes...\n",
      "done\n",
      "Namespace(experiment='EIO_sensor_V4', fake_dir='EIO_sensor_V4/crops_fake_B/crop_nose', real_dir='crops_real_B/crop_nose', roi='nose')\n",
      "Done with PSNR\n",
      "Done with SSIM\n"
     ]
    }
   ],
   "source": [
    "!bash nose_eval.sh -f \"EIO_sensor_V4\""
   ]
  },
  {
   "cell_type": "markdown",
   "metadata": {},
   "source": [
    "<h2>Calculate Average</h2>"
   ]
  },
  {
   "cell_type": "code",
   "execution_count": 32,
   "metadata": {},
   "outputs": [],
   "source": [
    "os.chdir('/Crops/Eurecom')"
   ]
  },
  {
   "cell_type": "code",
   "execution_count": 33,
   "metadata": {},
   "outputs": [],
   "source": [
    "def average_eval(experiment):\n",
    "    be = pd.read_csv('{}/bhatt_eyes.csv'.format(experiment))\n",
    "    bm = pd.read_csv('{}/bhatt_mouth.csv'.format(experiment))\n",
    "    bn = pd.read_csv('{}/bhatt_nose.csv'.format(experiment))\n",
    "\n",
    "    pe = pd.read_csv('{}/psnr_eyes.csv'.format(experiment))\n",
    "    pm = pd.read_csv('{}/psnr_mouth.csv'.format(experiment))\n",
    "    pn = pd.read_csv('{}/psnr_nose.csv'.format(experiment))\n",
    "\n",
    "    se = pd.read_csv('{}/ssim_eyes.csv'.format(experiment))\n",
    "    sm = pd.read_csv('{}/ssim_mouth.csv'.format(experiment))\n",
    "    sn = pd.read_csv('{}/ssim_nose.csv'.format(experiment))\n",
    "    \n",
    "    #print(\"Bhatt Eyes Average:\", be[\"0\"].mean())\n",
    "    #print(\"Bhatt Mouth Average:\", bm[\"0\"].mean())\n",
    "    #print(\"Bhatt Nose Average:\", bn[\"0\"].mean())\n",
    "    #print(\"PSNR Eyes Average:\", pe[\"0\"].mean())\n",
    "    #print(\"PSNR Mouth Average:\", pm[\"0\"].mean())\n",
    "    #print(\"PSNR Nose Average:\", pn[\"0\"].mean())\n",
    "    #print(\"SSIM Eyes Average:\", se[\"0\"].mean())\n",
    "    #print(\"SSIM Mouth Average:\", sm[\"0\"].mean())\n",
    "    #print(\"SSIM Nose Average:\", sn[\"0\"].mean())\n",
    "    \n",
    "    data = {'Metric':  ['BE', 'BM', 'BN', 'PE', 'PM', 'PN', 'SE', 'SM', 'SN'],\n",
    "        'Values': [be[\"0\"].mean(),\n",
    "                  bm[\"0\"].mean(),\n",
    "                  bn[\"0\"].mean(),\n",
    "                  pe[\"0\"].mean(),\n",
    "                  pm[\"0\"].mean(),\n",
    "                  pn[\"0\"].mean(),\n",
    "                  se[\"0\"].mean(),\n",
    "                  sm[\"0\"].mean(),\n",
    "                  sn[\"0\"].mean()]\n",
    "        }\n",
    "    df = pd.DataFrame (data, columns = ['Metric','Values'])\n",
    "    df.to_csv('{}/average_roi_IQ.csv'.format(experiment))\n",
    "    return(df)\n",
    "    "
   ]
  },
  {
   "cell_type": "code",
   "execution_count": 34,
   "metadata": {},
   "outputs": [
    {
     "data": {
      "text/html": [
       "<div>\n",
       "<style scoped>\n",
       "    .dataframe tbody tr th:only-of-type {\n",
       "        vertical-align: middle;\n",
       "    }\n",
       "\n",
       "    .dataframe tbody tr th {\n",
       "        vertical-align: top;\n",
       "    }\n",
       "\n",
       "    .dataframe thead th {\n",
       "        text-align: right;\n",
       "    }\n",
       "</style>\n",
       "<table border=\"1\" class=\"dataframe\">\n",
       "  <thead>\n",
       "    <tr style=\"text-align: right;\">\n",
       "      <th></th>\n",
       "      <th>Metric</th>\n",
       "      <th>Values</th>\n",
       "    </tr>\n",
       "  </thead>\n",
       "  <tbody>\n",
       "    <tr>\n",
       "      <th>0</th>\n",
       "      <td>BE</td>\n",
       "      <td>0.087882</td>\n",
       "    </tr>\n",
       "    <tr>\n",
       "      <th>1</th>\n",
       "      <td>BM</td>\n",
       "      <td>0.105203</td>\n",
       "    </tr>\n",
       "    <tr>\n",
       "      <th>2</th>\n",
       "      <td>BN</td>\n",
       "      <td>0.102029</td>\n",
       "    </tr>\n",
       "    <tr>\n",
       "      <th>3</th>\n",
       "      <td>PE</td>\n",
       "      <td>29.615821</td>\n",
       "    </tr>\n",
       "    <tr>\n",
       "      <th>4</th>\n",
       "      <td>PM</td>\n",
       "      <td>29.311528</td>\n",
       "    </tr>\n",
       "    <tr>\n",
       "      <th>5</th>\n",
       "      <td>PN</td>\n",
       "      <td>29.242785</td>\n",
       "    </tr>\n",
       "    <tr>\n",
       "      <th>6</th>\n",
       "      <td>SE</td>\n",
       "      <td>0.883990</td>\n",
       "    </tr>\n",
       "    <tr>\n",
       "      <th>7</th>\n",
       "      <td>SM</td>\n",
       "      <td>0.881391</td>\n",
       "    </tr>\n",
       "    <tr>\n",
       "      <th>8</th>\n",
       "      <td>SN</td>\n",
       "      <td>0.886927</td>\n",
       "    </tr>\n",
       "  </tbody>\n",
       "</table>\n",
       "</div>"
      ],
      "text/plain": [
       "  Metric     Values\n",
       "0     BE   0.087882\n",
       "1     BM   0.105203\n",
       "2     BN   0.102029\n",
       "3     PE  29.615821\n",
       "4     PM  29.311528\n",
       "5     PN  29.242785\n",
       "6     SE   0.883990\n",
       "7     SM   0.881391\n",
       "8     SN   0.886927"
      ]
     },
     "execution_count": 34,
     "metadata": {},
     "output_type": "execute_result"
    }
   ],
   "source": [
    "average_eval(\"EIO_sensor_V4\")"
   ]
  }
 ],
 "metadata": {
  "kernelspec": {
   "display_name": "Python 3",
   "language": "python",
   "name": "python3"
  },
  "language_info": {
   "codemirror_mode": {
    "name": "ipython",
    "version": 3
   },
   "file_extension": ".py",
   "mimetype": "text/x-python",
   "name": "python",
   "nbconvert_exporter": "python",
   "pygments_lexer": "ipython3",
   "version": "3.7.7"
  }
 },
 "nbformat": 4,
 "nbformat_minor": 4
}
